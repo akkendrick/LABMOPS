{
 "cells": [
  {
   "cell_type": "code",
   "execution_count": 1,
   "outputs": [],
   "source": [
    "import warnings\n",
    "import scipy as sp\n",
    "import numpy as np\n",
    "import porespy as ps\n",
    "import openpnm as op\n",
    "import matplotlib.pyplot as plt\n",
    "import scipy.io as sio\n",
    "import seaborn as sns\n",
    "import skimage as ski\n",
    "\n",
    "imageSize = 250\n",
    "\n",
    "primaryImage = np.load('subBeadPackPy250_justSpheres.npy')\n",
    "secondaryImage = np.load('finalSimFile3D250.npy')\n",
    "\n",
    "velSecondaryMat = sio.loadmat('velNormSecondary.mat')\n",
    "velDataNormSecondary = velSecondaryMat['velNorm']\n",
    "\n",
    "velPrimaryMat = sio.loadmat('velNormPrimary.mat')\n",
    "velDataNormPrimary = velPrimaryMat['velNorm']\n",
    "\n",
    "resolution = 16.81E-6 # adding resolution in meters"
   ],
   "metadata": {
    "collapsed": false,
    "pycharm": {
     "name": "#%%\n"
    }
   }
  },
  {
   "cell_type": "markdown",
   "source": [
    "# Extract pore network information"
   ],
   "metadata": {
    "collapsed": false
   }
  },
  {
   "cell_type": "code",
   "execution_count": 2,
   "outputs": [
    {
     "name": "stdout",
     "output_type": "stream",
     "text": [
      "------------------------------------------------------------\n",
      "Beginning SNOW Algorithm\n",
      "Converting supplied image (im) to boolean\n",
      "Peforming Distance Transform\n",
      "Applying Gaussian blur with sigma = 0.4\n",
      "Initial number of peaks:  1436\n",
      "Peaks after trimming saddle points:  951\n",
      "Peaks after trimming nearby peaks:  938\n",
      "------------------------------------------------------------\n",
      "Extracting pore and throat information from image\n",
      "100%|██████████| 938/938 [00:09<00:00, 94.10it/s] \n"
     ]
    }
   ],
   "source": [
    "snowFiltSecondary = ps.filters.snow_partitioning(im=secondaryImage,r_max=4,sigma=0.4, return_all=True)\n",
    "poreInfoSecondary = ps.networks.regions_to_network(snowFiltSecondary.regions, dt=snowFiltSecondary.dt)\n"
   ],
   "metadata": {
    "collapsed": false,
    "pycharm": {
     "name": "#%%\n"
    }
   }
  },
  {
   "cell_type": "code",
   "execution_count": 3,
   "outputs": [
    {
     "name": "stdout",
     "output_type": "stream",
     "text": [
      "------------------------------------------------------------\n",
      "Beginning SNOW Algorithm\n",
      "Converting supplied image (im) to boolean\n",
      "Peforming Distance Transform\n",
      "Applying Gaussian blur with sigma = 0.4\n",
      "Initial number of peaks:  113\n",
      "Peaks after trimming saddle points:  104\n",
      "Peaks after trimming nearby peaks:  93\n",
      "------------------------------------------------------------\n",
      "Extracting pore and throat information from image\n",
      "100%|██████████| 93/93 [00:05<00:00, 18.15it/s]\n"
     ]
    }
   ],
   "source": [
    "snowFiltPrimary = ps.filters.snow_partitioning(im=primaryImage,r_max=4,sigma=0.4, return_all=True)\n",
    "poreInfoPrimary = ps.networks.regions_to_network(snowFiltPrimary.regions, dt=snowFiltPrimary.dt)"
   ],
   "metadata": {
    "collapsed": false,
    "pycharm": {
     "name": "#%%\n"
    }
   }
  },
  {
   "cell_type": "markdown",
   "source": [
    "# Plot velocities for one pore\n"
   ],
   "metadata": {
    "collapsed": false
   }
  },
  {
   "cell_type": "code",
   "execution_count": 7,
   "outputs": [],
   "source": [
    "allRegions = snowFiltPrimary.regions\n",
    "poreRegion = primaryImage[snowFiltPrimary.regions == 3]"
   ],
   "metadata": {
    "collapsed": false,
    "pycharm": {
     "name": "#%%\n"
    }
   }
  },
  {
   "cell_type": "code",
   "execution_count": 40,
   "outputs": [],
   "source": [
    "regionLabel = 30\n",
    "cubeSize = 250\n",
    "regionImage = np.zeros(np.shape(primaryImage))\n",
    "regionVelocities = np.zeros(np.shape(primaryImage))\n",
    "justRegionVel = []\n",
    "\n",
    "for a in range(0, cubeSize):\n",
    "    for b in range(0, cubeSize):\n",
    "        for c in range(0, cubeSize):\n",
    "\n",
    "            #print(beadPack[a,b,c])\n",
    "            currentRegion = allRegions[a,b,c]\n",
    "            if currentRegion == regionLabel:\n",
    "                regionImage[a,b,c] = 1\n",
    "                regionVelocities[a,b,c] = velDataNormPrimary[a,b,c]\n",
    "                justRegionVel.append(velDataNormPrimary[a,b,c])\n",
    "justRegionVel = np.array(justRegionVel)"
   ],
   "metadata": {
    "collapsed": false,
    "pycharm": {
     "name": "#%%\n"
    }
   }
  },
  {
   "cell_type": "code",
   "execution_count": 44,
   "outputs": [
    {
     "name": "stdout",
     "output_type": "stream",
     "text": [
      "3.2964e-05\n",
      "3.2964e-05\n"
     ]
    }
   ],
   "source": [
    "test = np.matrix.flatten(regionVelocities)\n",
    "print(max(test))\n",
    "print(max(justRegionVel))\n"
   ],
   "metadata": {
    "collapsed": false,
    "pycharm": {
     "name": "#%%\n"
    }
   }
  },
  {
   "cell_type": "code",
   "execution_count": 34,
   "outputs": [
    {
     "data": {
      "text/plain": "<matplotlib.image.AxesImage at 0x19f054870a0>"
     },
     "execution_count": 34,
     "metadata": {},
     "output_type": "execute_result"
    },
    {
     "data": {
      "text/plain": "<Figure size 432x288 with 1 Axes>",
      "image/png": "[encoded data removed]"
     },
     "metadata": {
      "needs_background": "light"
     },
     "output_type": "display_data"
    }
   ],
   "source": [
    "testIM = np.where(snowFiltPrimary.regions == 30, False, True)\n",
    "test = ps.visualization.show_3D(testIM)\n",
    "plt.imshow(test)"
   ],
   "metadata": {
    "collapsed": false,
    "pycharm": {
     "name": "#%%\n"
    }
   }
  },
  {
   "cell_type": "code",
   "execution_count": 43,
   "outputs": [
    {
     "name": "stderr",
     "output_type": "stream",
     "text": [
      "E:\\Conda\\lib\\site-packages\\seaborn\\distributions.py:369: UserWarning: Default bandwidth for data is 0; skipping density estimation.\n",
      "  warnings.warn(msg, UserWarning)\n"
     ]
    },
    {
     "data": {
      "text/plain": "Text(0.5, 1.0, 'Histogram of all velocities in one region')"
     },
     "execution_count": 43,
     "metadata": {},
     "output_type": "execute_result"
    },
    {
     "data": {
      "text/plain": "<Figure size 1296x720 with 1 Axes>",
      "image/png": "[encoded data removed]"
     },
     "metadata": {
      "needs_background": "light"
     },
     "output_type": "display_data"
    }
   ],
   "source": [
    "fig, axes = plt.subplots(1, 1, figsize=(18, 10))\n",
    "sns.distplot(justRegionVel, ax=axes, hist=True, kde=True,\n",
    "             bins=int(40), color = 'darkblue',\n",
    "             hist_kws={'edgecolor':'black'},\n",
    "             kde_kws={'linewidth': 4})\n",
    "axes.set_xlabel('Simulated velocity')\n",
    "axes.set_title('Histogram of all velocities in one region')\n",
    "\n"
   ],
   "metadata": {
    "collapsed": false,
    "pycharm": {
     "name": "#%%\n"
    }
   }
  },
  {
   "cell_type": "code",
   "execution_count": null,
   "outputs": [],
   "source": [
    "regionData = ps.metrics.regionprops_3D(snowFiltPrimary.regions) #Gives properties for each region"
   ],
   "metadata": {
    "collapsed": false,
    "pycharm": {
     "name": "#%%\n"
    }
   }
  },
  {
   "cell_type": "code",
   "execution_count": null,
   "outputs": [],
   "source": [],
   "metadata": {
    "collapsed": false,
    "pycharm": {
     "name": "#%%\n"
    }
   }
  }
 ],
 "metadata": {
  "kernelspec": {
   "display_name": "Python 3",
   "language": "python",
   "name": "python3"
  },
  "language_info": {
   "codemirror_mode": {
    "name": "ipython",
    "version": 2
   },
   "file_extension": ".py",
   "mimetype": "text/x-python",
   "name": "python",
   "nbconvert_exporter": "python",
   "pygments_lexer": "ipython2",
   "version": "2.7.6"
  }
 },
 "nbformat": 4,
 "nbformat_minor": 0
}