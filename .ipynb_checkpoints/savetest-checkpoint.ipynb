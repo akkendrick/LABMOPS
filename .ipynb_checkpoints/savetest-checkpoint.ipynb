{
 "cells": [
  {
   "cell_type": "code",
   "execution_count": null,
   "metadata": {
    "collapsed": false,
    "jupyter": {
     "outputs_hidden": false
    },
    "pycharm": {
     "name": "#%%\n"
    }
   },
   "outputs": [],
   "source": [
    "import numpy as np\n",
    "import porespy as ps\n",
    "import matplotlib.pyplot as plt\n",
    "import scipy.io as sio\n",
    "import seaborn as sns\n",
    "import skimage as ski\n",
    "import tqdm\n",
    "import pandas as pd\n",
    "import scipy.stats\n",
    "import os\n",
    "\n",
    "dir_path = os.path.abspath('')\n",
    "\n",
    "imageSize = 512\n",
    "\n",
    "primaryImage = np.load('subBeadPackPy250_justSpheres.npy')\n",
    "secondaryImage = np.load('finalSimFile3D250.npy')\n",
    "primaryImage[primaryImage == 255] = 1\n",
    "\n",
    "primaryImage = np.transpose(primaryImage)\n",
    "secondaryImage = np.transpose(secondaryImage)\n",
    "\n",
    "fname = dir_path + '/velocityFiles/velocityCodeSecondary_0.00005.dat'\n",
    "\n",
    "f = open(fname, 'r') # 'r' = read\n",
    "data = np.loadtxt(fname)\n",
    "f.close()\n",
    "\n",
    "resolution = 16.81E-6 # adding resolution in meters"
   ]
  },
  {
   "cell_type": "code",
   "execution_count": 1,
   "metadata": {},
   "outputs": [
    {
     "ename": "NameError",
     "evalue": "name 'data' is not defined",
     "output_type": "error",
     "traceback": [
      "\u001b[0;31m-----------------------------------------------------------------------\u001b[0m",
      "\u001b[0;31mNameError\u001b[0m                             Traceback (most recent call last)",
      "\u001b[0;32m<ipython-input-1-047ed65ff157>\u001b[0m in \u001b[0;36m<module>\u001b[0;34m\u001b[0m\n\u001b[0;32m----> 1\u001b[0;31m \u001b[0mdata\u001b[0m\u001b[0;34m.\u001b[0m\u001b[0mshape\u001b[0m\u001b[0;34m\u001b[0m\u001b[0;34m\u001b[0m\u001b[0m\n\u001b[0m",
      "\u001b[0;31mNameError\u001b[0m: name 'data' is not defined"
     ]
    }
   ],
   "source": [
    "data.shape"
   ]
  },
  {
   "cell_type": "code",
   "execution_count": 16,
   "metadata": {},
   "outputs": [],
   "source": [
    "goodData = np.reshape(data, [imageSize, imageSize, imageSize, 3])"
   ]
  },
  {
   "cell_type": "code",
   "execution_count": 17,
   "metadata": {},
   "outputs": [
    {
     "data": {
      "text/plain": [
       "(512, 512, 512)"
      ]
     },
     "execution_count": 17,
     "metadata": {},
     "output_type": "execute_result"
    }
   ],
   "source": [
    "goodData.shape"
   ]
  }
 ],
 "metadata": {
  "kernelspec": {
   "display_name": "Python 3",
   "language": "python",
   "name": "python3"
  },
  "language_info": {
   "codemirror_mode": {
    "name": "ipython",
    "version": 3
   },
   "file_extension": ".py",
   "mimetype": "text/x-python",
   "name": "python",
   "nbconvert_exporter": "python",
   "pygments_lexer": "ipython3",
   "version": "3.8.5"
  }
 },
 "nbformat": 4,
 "nbformat_minor": 4
}
