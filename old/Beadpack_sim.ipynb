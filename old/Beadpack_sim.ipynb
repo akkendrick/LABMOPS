{
 "cells": [
  {
   "cell_type": "code",
   "execution_count": 5,
   "metadata": {},
   "outputs": [],
   "source": [
    "import porespy as ps\n",
    "import numpy as np \n",
    "import matplotlib.pyplot as plt\n",
    "import scipy.ndimage as spim\n",
    "import scipy.io as sio\n",
    "import openpnm as op\n",
    "import imageio\n",
    "import numpy as np\n",
    "from PIL import Image\n",
    "from porespy.filters import find_peaks, trim_saddle_points, trim_nearby_peaks\n",
    "from porespy.tools import randomize_colors\n",
    "from skimage.morphology import watershed\n",
    "from matplotlib import cm\n",
    "\n",
    "ps.visualization.set_mpl_style()"
   ]
  },
  {
   "cell_type": "code",
   "execution_count": 39,
   "metadata": {},
   "outputs": [
    {
     "name": "stdout",
     "output_type": "stream",
     "text": [
      "True\n",
      "False\n",
      "(40, 40)\n"
     ]
    },
    {
     "data": {
      "image/png": "[encoded data removed]",
      "text/plain": [
       "<Figure size 432x288 with 1 Axes>"
      ]
     },
     "metadata": {
      "needs_background": "light"
     },
     "output_type": "display_data"
    }
   ],
   "source": [
    "path = 'AW_DryScan_segm_650x650x294_8bitunsigned.raw'\n",
    "scene_infile = open(path,'rb')\n",
    "scene_image_array = np.fromfile(scene_infile,dtype=np.uint8,count=-1)\n",
    "\n",
    "beadPack = np.reshape(scene_image_array,(650,650,294)) \n",
    "test = beadPack[460:500,460:500,30]\n",
    "test = test > 0\n",
    "\n",
    "print(test.max())\n",
    "print(test.min())\n",
    "print(test.shape)\n",
    "\n",
    "plt.imshow(test)\n",
    "plt.show()"
   ]
  },
  {
   "cell_type": "code",
   "execution_count": 10,
   "metadata": {},
   "outputs": [],
   "source": [
    "img = Image.fromarray(beadPack[:,:,80])\n",
    "img.save('my.tiff')"
   ]
  },
  {
   "cell_type": "code",
   "execution_count": null,
   "metadata": {},
   "outputs": [],
   "source": []
  }
 ],
 "metadata": {
  "kernelspec": {
   "display_name": "Python 3",
   "language": "python",
   "name": "python3"
  },
  "language_info": {
   "codemirror_mode": {
    "name": "ipython",
    "version": 3
   },
   "file_extension": ".py",
   "mimetype": "text/x-python",
   "name": "python",
   "nbconvert_exporter": "python",
   "pygments_lexer": "ipython3",
   "version": "3.8.3"
  }
 },
 "nbformat": 4,
 "nbformat_minor": 4
}
