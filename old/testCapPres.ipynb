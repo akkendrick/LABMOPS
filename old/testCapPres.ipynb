{
 "cells": [
  {
   "cell_type": "code",
   "execution_count": 1,
   "outputs": [],
   "source": [
    "import numpy as np\n",
    "import openpnm as op\n",
    "np.random.seed(10)\n",
    "ws = op.Workspace()\n",
    "ws.settings[\"loglevel\"] = 40\n",
    "np.set_printoptions(precision=5)\n",
    "\n",
    "pn = op.network.Cubic(shape=[20, 20, 20], spacing=0.00005)"
   ],
   "metadata": {
    "collapsed": false,
    "pycharm": {
     "name": "#%%\n"
    }
   }
  },
  {
   "cell_type": "code",
   "execution_count": 2,
   "outputs": [
    {
     "name": "stdout",
     "output_type": "stream",
     "text": [
      "+Project: sim_01-----------+\n",
      "|   net_01   |   mercury   |\n",
      "+------------+-------------+\n",
      "|   geo_01   |   phys_01   |\n",
      "+------------+-------------+\n"
     ]
    }
   ],
   "source": [
    "geo = op.geometry.StickAndBall(network=pn, pores=pn.Ps, throats=pn.Ts)\n",
    "hg = op.phases.Mercury(network=pn, name='mercury')\n",
    "\n",
    "phys = op.physics.GenericPhysics(network=pn, phase=hg, geometry=geo)\n",
    "phys.add_model(propname='throat.entry_pressure',\n",
    "               model=op.models.physics.capillary_pressure.washburn)\n",
    "\n",
    "print(pn.project.grid)"
   ],
   "metadata": {
    "collapsed": false,
    "pycharm": {
     "name": "#%%\n"
    }
   }
  },
  {
   "cell_type": "code",
   "execution_count": 3,
   "outputs": [],
   "source": [
    "mip = op.algorithms.Porosimetry(network=pn, phase=hg)\n",
    "mip.set_inlets(pores=pn.pores('back'))\n",
    "mip.run()"
   ],
   "metadata": {
    "collapsed": false,
    "pycharm": {
     "name": "#%%\n"
    }
   }
  },
  {
   "cell_type": "code",
   "execution_count": 4,
   "outputs": [
    {
     "data": {
      "text/plain": "<Figure size 432x288 with 1 Axes>",
      "image/png": "[encoded data removed]"
     },
     "metadata": {
      "needs_background": "light"
     },
     "output_type": "display_data"
    }
   ],
   "source": [
    "#NBVAL_IGNORE_OUTPUT\n",
    "fig = mip.plot_intrusion_curve()\n"
   ],
   "metadata": {
    "collapsed": false,
    "pycharm": {
     "name": "#%%\n"
    }
   }
  },
  {
   "cell_type": "code",
   "execution_count": 5,
   "outputs": [
    {
     "name": "stdout",
     "output_type": "stream",
     "text": [
      "[ 42142.40196  47030.17163  52484.83572  58572.14391  65365.47166\n",
      "  72946.7047   81407.22604  90849.0175  101385.88896 113144.85026\n",
      " 126267.64209 140912.44455 157255.78382 175494.66001 195848.92168\n",
      " 218563.91598 243913.44593 272203.07084 303773.78948 339006.15041\n",
      " 378324.83906 422203.79682 471171.93387 525819.50455 586805.22225] [0.0, 0.0, 0.0, 0.0, 0.0, 0.0, 0.0, 0.006663680170228563, 0.029557076250931905, 0.2922910321871031, 0.6015780625675873, 0.7144536858425853, 0.7890446004531194, 0.8510852707172183, 0.8993157761187267, 0.9363213760435675, 0.9649411782335564, 0.9873089340667308, 1.0, 1.0, 1.0, 1.0, 1.0, 1.0, 1.0]\n"
     ]
    }
   ],
   "source": [
    "Pc, Snwp = mip.get_intrusion_data()\n",
    "print(Pc, Snwp)\n"
   ],
   "metadata": {
    "collapsed": false,
    "pycharm": {
     "name": "#%%\n"
    }
   }
  }
 ],
 "metadata": {
  "kernelspec": {
   "display_name": "Python 3",
   "language": "python",
   "name": "python3"
  },
  "language_info": {
   "codemirror_mode": {
    "name": "ipython",
    "version": 2
   },
   "file_extension": ".py",
   "mimetype": "text/x-python",
   "name": "python",
   "nbconvert_exporter": "python",
   "pygments_lexer": "ipython2",
   "version": "2.7.6"
  }
 },
 "nbformat": 4,
 "nbformat_minor": 0
}