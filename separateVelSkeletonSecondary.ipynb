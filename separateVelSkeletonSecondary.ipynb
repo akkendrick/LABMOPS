{
 "cells": [
  {
   "cell_type": "code",
   "execution_count": null,
   "metadata": {
    "collapsed": false,
    "jupyter": {
     "outputs_hidden": false
    },
    "pycharm": {
     "name": "#%%\n"
    }
   },
   "outputs": [],
   "source": []
  },
  {
   "cell_type": "code",
   "execution_count": null,
   "metadata": {
    "collapsed": false,
    "jupyter": {
     "outputs_hidden": false
    },
    "pycharm": {
     "name": "#%%\n"
    }
   },
   "outputs": [],
   "source": [
    "import scipy as sp\n",
    "import numpy as np\n",
    "import porespy as ps\n",
    "import matplotlib.pyplot as plt\n",
    "import scipy.io as sio\n",
    "import seaborn as sns\n",
    "import skimage as ski\n",
    "\n",
    "imageSize = 250\n",
    "\n",
    "primaryImage = np.load('subBeadPackPy250_justSpheres.npy')\n",
    "secondaryImage = np.load('finalSimFile3D250.npy')\n",
    "primaryImage[primaryImage == 255] = 1\n",
    "\n",
    "velSecondaryMat = sio.loadmat('velNormSecondary.mat')\n",
    "velDataNormSecondary = velSecondaryMat['velNorm']\n",
    "\n",
    "velPrimaryMat = sio.loadmat('velNormPrimary.mat')\n",
    "velDataNormPrimary = velPrimaryMat['velNorm']\n",
    "\n",
    "resolution = 16.81E-6 # adding resolution in meters"
   ]
  },
  {
   "cell_type": "markdown",
   "metadata": {},
   "source": [
    "# Plot pore space and velocity"
   ]
  },
  {
   "cell_type": "markdown",
   "metadata": {},
   "source": [
    "Start with sample with secondary porosity"
   ]
  },
  {
   "cell_type": "code",
   "execution_count": null,
   "metadata": {
    "collapsed": false,
    "jupyter": {
     "outputs_hidden": false
    },
    "pycharm": {
     "name": "#%%\n"
    }
   },
   "outputs": [],
   "source": [
    "\n",
    "slice = 49\n",
    "\n",
    "secondaryImage = np.transpose(secondaryImage)\n",
    "primaryImage = np.transpose(primaryImage)\n",
    "\n",
    "fig, (p1, p2) = plt.subplots(1, 2)\n",
    "\n",
    "fig.suptitle('Pore space and velocity map')\n",
    "p1.imshow(velDataNormSecondary[:,:,slice])\n",
    "p2.imshow(secondaryImage[:,:,slice])"
   ]
  },
  {
   "cell_type": "markdown",
   "metadata": {},
   "source": [
    "Now plot the sample with just primary porosity"
   ]
  },
  {
   "cell_type": "code",
   "execution_count": null,
   "metadata": {
    "collapsed": false,
    "jupyter": {
     "outputs_hidden": false
    },
    "pycharm": {
     "name": "#%%\n"
    }
   },
   "outputs": [],
   "source": [
    "fig, (p1, p2) = plt.subplots(1, 2)\n",
    "\n",
    "fig.suptitle('Pore space and velocity map')\n",
    "p1.imshow(velDataNormPrimary[:,:,slice])\n",
    "p2.imshow(primaryImage[:,:,slice])\n",
    "\n"
   ]
  },
  {
   "cell_type": "markdown",
   "metadata": {},
   "source": [
    "Now compare the pore space of both samples"
   ]
  },
  {
   "cell_type": "code",
   "execution_count": null,
   "metadata": {
    "collapsed": false,
    "jupyter": {
     "outputs_hidden": false
    },
    "pycharm": {
     "name": "#%%\n"
    }
   },
   "outputs": [],
   "source": [
    "slice = 49\n",
    "\n",
    "fig, (p1, p2) = plt.subplots(1, 2)\n",
    "\n",
    "fig.suptitle('Pore space comparision')\n",
    "p1.imshow(primaryImage[:,:,slice])\n",
    "p2.imshow(secondaryImage[:,:,slice])"
   ]
  },
  {
   "cell_type": "code",
   "execution_count": null,
   "metadata": {
    "collapsed": false,
    "jupyter": {
     "outputs_hidden": false
    },
    "pycharm": {
     "name": "#%%\n"
    }
   },
   "outputs": [],
   "source": [
    "# testIM = primaryImage.astype(bool)\n",
    "# testIM = testIM[:,:,slice]\n",
    "# skelIM = ski.morphology.skeletonize(testIM)\n",
    "#\n",
    "# plt.imshow(skelIM)"
   ]
  },
  {
   "cell_type": "markdown",
   "metadata": {},
   "source": [
    "# Extract pore network information"
   ]
  },
  {
   "cell_type": "code",
   "execution_count": null,
   "metadata": {
    "collapsed": false,
    "jupyter": {
     "outputs_hidden": false
    },
    "pycharm": {
     "name": "#%%\n"
    }
   },
   "outputs": [],
   "source": [
    "snowFiltSecondary = ps.filters.snow_partitioning(im=secondaryImage,r_max=4,sigma=0.4, return_all=True)\n",
    "poreInfoSecondary = ps.networks.regions_to_network(snowFiltSecondary.regions, dt=snowFiltSecondary.dt)\n",
    "\n",
    "nRegions = np.unique(snowFiltSecondary.regions).size\n",
    "secondaryPoreDiamVecSecondary = np.zeros(nRegions,)\n",
    "\n",
    "for a in range(0, poreInfoSecondary['pore.diameter'].size):\n",
    "    secondaryPoreDiamVecSecondary[a] = poreInfoSecondary['pore.diameter'][a]"
   ]
  },
  {
   "cell_type": "code",
   "execution_count": null,
   "metadata": {
    "collapsed": false,
    "jupyter": {
     "outputs_hidden": false
    },
    "pycharm": {
     "name": "#%%\n"
    }
   },
   "outputs": [],
   "source": [
    "snowFiltPrimary = ps.filters.snow_partitioning(im=primaryImage,r_max=4,sigma=0.4, return_all=True)\n",
    "poreInfoPrimary = ps.networks.regions_to_network(snowFiltPrimary.regions, dt=snowFiltPrimary.dt)\n",
    "\n",
    "nRegions = np.unique(snowFiltPrimary.regions).size\n",
    "primaryPoreDiamVec = np.zeros(nRegions,)\n",
    "\n",
    "for a in range(0, poreInfoPrimary['pore.diameter'].size):\n",
    "    primaryPoreDiamVec[a] = poreInfoPrimary['pore.diameter'][a]"
   ]
  },
  {
   "cell_type": "code",
   "execution_count": null,
   "metadata": {
    "collapsed": false,
    "jupyter": {
     "outputs_hidden": false
    },
    "pycharm": {
     "name": "#%%\n"
    }
   },
   "outputs": [],
   "source": [
    "slice = 19\n",
    "\n",
    "imSub = primaryImage[:,:,slice]\n",
    "snowFiltSub = ps.filters.snow_partitioning(im=imSub,r_max=5,sigma=0.4, return_all=True)\n",
    "poreInfoSub = ps.networks.regions_to_network(snowFiltSub.regions, dt=snowFiltSub.dt)\n",
    "test = ps.metrics.regionprops_3D(snowFiltSub.regions)\n",
    "regionTest = snowFiltSub.regions\n",
    "subsubTest = regionTest[regionTest == 8]\n",
    "\n",
    "plt.imshow(regionTest)"
   ]
  },
  {
   "cell_type": "markdown",
   "metadata": {},
   "source": [
    "# Plot velocity histogram for simulation"
   ]
  },
  {
   "cell_type": "code",
   "execution_count": null,
   "metadata": {
    "collapsed": false,
    "jupyter": {
     "outputs_hidden": false
    },
    "pycharm": {
     "name": "#%%\n"
    }
   },
   "outputs": [],
   "source": [
    "allPrimaryVelocities = np.ndarray.flatten(velDataNormPrimary)\n",
    "\n",
    "filtIndex = allPrimaryVelocities > 0\n",
    "trueZeroIndex = allPrimaryVelocities == 0\n",
    "\n",
    "filtPrimaryVelocities = allPrimaryVelocities[filtIndex]\n",
    "filtZeroPrimaryVelocities = allPrimaryVelocities[trueZeroIndex]\n",
    "\n",
    "fig, axes = plt.subplots(1, 1, figsize=(18, 10))\n",
    "sns.distplot(filtPrimaryVelocities, ax=axes, hist=True, kde=True,\n",
    "             bins=int(80), color = 'darkblue',\n",
    "             hist_kws={'edgecolor':'black'},\n",
    "             kde_kws={'linewidth': 4})\n",
    "axes.set_title('Primary porosity ')\n",
    "axes.set_xlabel('All pore velocities',fontsize='x-large')"
   ]
  },
  {
   "cell_type": "code",
   "execution_count": null,
   "metadata": {
    "collapsed": false,
    "jupyter": {
     "outputs_hidden": false
    },
    "pycharm": {
     "name": "#%%\n"
    }
   },
   "outputs": [],
   "source": [
    "allSecondaryVelocities = np.ndarray.flatten(velDataNormSecondary)\n",
    "\n",
    "filtIndex = allSecondaryVelocities > 0\n",
    "trueZeroIndex = allSecondaryVelocities == 0\n",
    "\n",
    "filtSecondaryVelocities = allSecondaryVelocities[filtIndex]\n",
    "filtZeroSecondaryVelocities = allSecondaryVelocities[trueZeroIndex]\n",
    "\n",
    "fig, axes = plt.subplots(1, 1, figsize=(18, 10))\n",
    "sns.distplot(filtSecondaryVelocities, ax=axes, hist=True, kde=True,\n",
    "             bins=int(80), color = 'darkblue',\n",
    "             hist_kws={'edgecolor':'black'},\n",
    "             kde_kws={'linewidth': 4})\n",
    "axes.set_title('Secondary porosity ')\n",
    "axes.set_xlabel('All pore velocities',fontsize='x-large')\n",
    "\n",
    "\n"
   ]
  },
  {
   "cell_type": "code",
   "execution_count": null,
   "metadata": {
    "collapsed": false,
    "jupyter": {
     "outputs_hidden": false
    },
    "pycharm": {
     "name": "#%%\n"
    }
   },
   "outputs": [],
   "source": [
    "allPrimaryVelocities = np.ndarray.flatten(velDataNormPrimary)\n",
    "allSecondaryVelocities = np.ndarray.flatten(velDataNormPrimary)\n",
    "\n",
    "fig, axes = plt.subplots(1, 2, figsize=(18, 10))\n",
    "sns.distplot(allPrimaryVelocities, ax=axes[0], hist=True, kde=True,\n",
    "             bins=int(80), color = 'darkblue',\n",
    "             hist_kws={'edgecolor':'black'},\n",
    "             kde_kws={'linewidth': 4})\n",
    "axes[0].set_title('Primary porosity ')\n",
    "axes[0].set_xlabel('All pore velocities',fontsize='x-large')\n",
    "\n",
    "sns.distplot(allSecondaryVelocities, ax=axes[1], hist=True, kde=True,\n",
    "             bins=int(80), color = 'darkblue',\n",
    "             hist_kws={'edgecolor':'black'},\n",
    "             kde_kws={'linewidth': 4})\n",
    "axes[1].set_title('Secondary porosity')\n",
    "axes[1].set_xlabel('All pore velocities',fontsize='x-large')"
   ]
  },
  {
   "cell_type": "markdown",
   "metadata": {},
   "source": [
    "# Skeleton implementation\n"
   ]
  },
  {
   "cell_type": "code",
   "execution_count": null,
   "metadata": {
    "collapsed": false,
    "jupyter": {
     "outputs_hidden": false
    },
    "pycharm": {
     "name": "#%%\n"
    }
   },
   "outputs": [],
   "source": [
    "primaryRegionData = ps.metrics.regionprops_3D(snowFiltPrimary.regions) #Gives properties for each region\n",
    "primaryRegionData.append([])\n",
    "\n",
    "primaryRegions = snowFiltPrimary.regions"
   ]
  },
  {
   "cell_type": "code",
   "execution_count": null,
   "metadata": {
    "collapsed": false,
    "jupyter": {
     "outputs_hidden": false
    },
    "pycharm": {
     "name": "#%%\n"
    }
   },
   "outputs": [],
   "source": [
    "secondaryRegionData = ps.metrics.regionprops_3D(snowFiltSecondary.regions) #Gives properties for each region\n",
    "secondaryRegionData.append([])\n",
    "\n",
    "secondaryRegions =  snowFiltSecondary.regions"
   ]
  },
  {
   "cell_type": "markdown",
   "metadata": {},
   "source": [
    "On primary image"
   ]
  },
  {
   "cell_type": "code",
   "execution_count": null,
   "metadata": {
    "collapsed": false,
    "jupyter": {
     "outputs_hidden": false
    },
    "pycharm": {
     "name": "#%%\n"
    }
   },
   "outputs": [],
   "source": [
    "cubeSize = len(primaryImage)\n",
    "primarySkelImage = np.zeros(primaryImage.shape)\n",
    "edgeImage = np.zeros(primaryImage.shape)\n",
    "visit = np.zeros(len(primaryRegionData))\n",
    "\n",
    "\n",
    "for a in range(0,cubeSize):\n",
    "    for b in range(0,cubeSize):\n",
    "        for c in range(0, cubeSize):\n",
    "            regionLabel = snowFiltPrimary.regions[a,b,c]\n",
    "            if regionLabel != 0: # Don't want grains to be counted\n",
    "                regionLabel = regionLabel -1 # Adjusting index to work with region props command\n",
    "                if visit[regionLabel] == 0:\n",
    "                    visit[regionLabel] = 1\n",
    "                    #index = snowFiltPrimary.regions[a,b,c]\n",
    "                    regionInd = snowFiltPrimary.regions == regionLabel\n",
    "                    regionBorder = primaryRegionData[regionLabel].slice\n",
    "                    primarySkelImage[regionBorder[0],regionBorder[1],regionBorder[2]] = primaryRegionData[regionLabel].skeleton\n",
    "                    #edgeImage[snowFiltPrimary.regions[a,b,c] == regionLabel] = regionData[regionLabel].border"
   ]
  },
  {
   "cell_type": "code",
   "execution_count": null,
   "metadata": {
    "collapsed": false,
    "jupyter": {
     "outputs_hidden": false
    },
    "pycharm": {
     "name": "#%%\n"
    }
   },
   "outputs": [],
   "source": [
    "plt.imshow(primarySkelImage[:,:,40])\n",
    "ps.io.to_vtk(primarySkelImage,'PS_skeleton')\n",
    "\n",
    "#primaryImage[primaryImage == 1] = 255 # Make red/blue distinction\n",
    "#ps.io.to_vtk(primaryImage,'primaryImage')"
   ]
  },
  {
   "cell_type": "markdown",
   "metadata": {},
   "source": [
    "On secondary image"
   ]
  },
  {
   "cell_type": "code",
   "execution_count": null,
   "metadata": {
    "collapsed": false,
    "jupyter": {
     "outputs_hidden": false
    },
    "pycharm": {
     "name": "#%%\n"
    }
   },
   "outputs": [],
   "source": [
    "cubeSize = len(secondaryImage)\n",
    "secondarySkelImage = np.zeros(secondaryImage.shape)\n",
    "edgeImage = np.zeros(secondaryImage.shape)\n",
    "visit = np.zeros(len(secondaryRegionData))\n",
    "\n",
    "for a in range(0,cubeSize):\n",
    "    for b in range(0,cubeSize):\n",
    "        for c in range(0, cubeSize):\n",
    "            regionLabel = snowFiltSecondary.regions[a,b,c]\n",
    "            if regionLabel != 0: # Don't want grains to be counted\n",
    "                regionLabel = regionLabel -1 # Adjusting index to work with region props command\n",
    "                if visit[regionLabel] == 0:\n",
    "                    visit[regionLabel] = 1\n",
    "                    #index = snowFiltPrimary.regions[a,b,c]\n",
    "                    regionInd = snowFiltPrimary.regions == regionLabel\n",
    "                    regionBorder = secondaryRegionData[regionLabel].slice\n",
    "                    secondarySkelImage[regionBorder[0],regionBorder[1],regionBorder[2]] = secondaryRegionData[regionLabel].skeleton\n"
   ]
  },
  {
   "cell_type": "markdown",
   "metadata": {},
   "source": [
    "# Now plot velocitites on skeleton"
   ]
  },
  {
   "cell_type": "code",
   "execution_count": null,
   "metadata": {
    "collapsed": false,
    "jupyter": {
     "outputs_hidden": false
    },
    "pycharm": {
     "name": "#%%\n"
    }
   },
   "outputs": [],
   "source": [
    "primaryVelocitiesSkeleton = []\n",
    "\n",
    "for a in range(0,cubeSize):\n",
    "    for b in range(0,cubeSize):\n",
    "        for c in range(0, cubeSize):\n",
    "            if primarySkelImage[a,b,c] != 0:\n",
    "                primaryVelocitiesSkeleton = np.append(primaryVelocitiesSkeleton,velDataNormPrimary[a,b,c])"
   ]
  },
  {
   "cell_type": "code",
   "execution_count": null,
   "metadata": {
    "collapsed": false,
    "jupyter": {
     "outputs_hidden": false
    },
    "pycharm": {
     "name": "#%%\n"
    }
   },
   "outputs": [],
   "source": [
    "fig, axes = plt.subplots(1, 2, figsize=(18, 10))\n",
    "sns.distplot(primaryVelocitiesSkeleton, ax=axes[0], hist=True, kde=True,\n",
    "             bins=int(80), color = 'darkblue',\n",
    "             hist_kws={'edgecolor':'black'},\n",
    "             kde_kws={'linewidth': 4})\n",
    "\n",
    "sns.distplot(primaryVelocitiesSkeleton[primaryVelocitiesSkeleton != 0], ax=axes[1], hist=True, kde=True,\n",
    "             bins=int(80), color = 'darkblue',\n",
    "             hist_kws={'edgecolor':'black'},\n",
    "             kde_kws={'linewidth': 4})\n"
   ]
  },
  {
   "cell_type": "code",
   "execution_count": null,
   "metadata": {
    "collapsed": false,
    "jupyter": {
     "outputs_hidden": false
    },
    "pycharm": {
     "name": "#%%\n"
    }
   },
   "outputs": [],
   "source": [
    "secondaryVelocitiesSkeleton = []\n",
    "\n",
    "for a in range(0,cubeSize):\n",
    "    for b in range(0,cubeSize):\n",
    "        for c in range(0, cubeSize):\n",
    "            if secondarySkelImage[a,b,c] != 0:\n",
    "                secondaryVelocitiesSkeleton = np.append(secondaryVelocitiesSkeleton,velDataNormSecondary[a,b,c])"
   ]
  },
  {
   "cell_type": "code",
   "execution_count": null,
   "metadata": {
    "collapsed": false,
    "jupyter": {
     "outputs_hidden": false
    },
    "pycharm": {
     "name": "#%%\n"
    }
   },
   "outputs": [],
   "source": [
    "fig, axes = plt.subplots(1, 2, figsize=(18, 10))\n",
    "sns.distplot(secondaryVelocitiesSkeleton, ax=axes[0], hist=True, kde=True,\n",
    "             bins=int(80), color = 'darkblue',\n",
    "             hist_kws={'edgecolor':'black'},\n",
    "             kde_kws={'linewidth': 4})\n",
    "\n",
    "sns.distplot(secondaryVelocitiesSkeleton[secondaryVelocitiesSkeleton != 0], ax=axes[1], hist=True, kde=True,\n",
    "             bins=int(80), color = 'darkblue',\n",
    "             hist_kws={'edgecolor':'black'},\n",
    "             kde_kws={'linewidth': 4})\n",
    "\n",
    "\n"
   ]
  },
  {
   "cell_type": "markdown",
   "metadata": {},
   "source": [
    "Look at number of zeros in each image"
   ]
  },
  {
   "cell_type": "code",
   "execution_count": null,
   "metadata": {
    "collapsed": false,
    "jupyter": {
     "outputs_hidden": false
    },
    "pycharm": {
     "name": "#%%\n"
    }
   },
   "outputs": [],
   "source": [
    "primaryVelZeros = primaryVelocitiesSkeleton[primaryVelocitiesSkeleton == 0]\n",
    "secondaryVelZeros = secondaryVelocitiesSkeleton[secondaryVelocitiesSkeleton == 0]\n",
    "\n",
    "primaryVelFilt = primaryVelocitiesSkeleton[primaryVelocitiesSkeleton != 0]\n",
    "secondaryVelFilt = secondaryVelocitiesSkeleton[secondaryVelocitiesSkeleton != 0]"
   ]
  },
  {
   "cell_type": "code",
   "execution_count": null,
   "metadata": {
    "collapsed": false,
    "jupyter": {
     "outputs_hidden": false
    },
    "pycharm": {
     "name": "#%%\n"
    }
   },
   "outputs": [],
   "source": [
    "z"
   ]
  }
 ],
 "metadata": {
  "kernelspec": {
   "display_name": "Python 3",
   "language": "python",
   "name": "python3"
  },
  "language_info": {
   "codemirror_mode": {
    "name": "ipython",
    "version": 3
   },
   "file_extension": ".py",
   "mimetype": "text/x-python",
   "name": "python",
   "nbconvert_exporter": "python",
   "pygments_lexer": "ipython3",
   "version": "3.8.3"
  }
 },
 "nbformat": 4,
 "nbformat_minor": 4
}