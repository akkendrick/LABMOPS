{
 "cells": [
  {
   "cell_type": "code",
   "execution_count": null,
   "outputs": [],
   "source": [
    "\n",
    "import numpy as np\n",
    "import porespy as ps\n",
    "import matplotlib.pyplot as plt\n",
    "import scipy.io as sio\n",
    "import skimage as ski\n",
    "import tqdm\n",
    "import seaborn as sns\n",
    "import pandas as pd\n",
    "from pathlib import Path\n",
    "import pickle as pkl\n",
    "from sklearn.neighbors import KernelDensity\n",
    "from  scipy.stats import gaussian_kde\n",
    "\n",
    "\n",
    "cwd = Path().resolve()"
   ],
   "metadata": {
    "collapsed": false,
    "pycharm": {
     "name": "#%%\n"
    }
   }
  },
  {
   "cell_type": "code",
   "execution_count": null,
   "outputs": [],
   "source": [
    "# Define overall variables used to analyze the data\n",
    "resolution = 16.81E-6 # adding resolution in meters\n",
    "lowFlowVelCutoff = 6.5 * 10 ** float(-6) #0.000207 # 5.13 * 10 ** float(-5) # 0.5 * 10 ** float(-5)\n",
    "poreDiamThresh = 20\n",
    "poreVolumeCutoff = 38000\n",
    "simPressure = 0.00005 # This is currently hardcoded!!\n",
    "imageSize = 512\n",
    "experimentTime = 90 * 10 ** float(-6) # specify NMR time\n",
    "\n",
    "filePath = cwd / 'subBeadPackPy512_justSpheres.npy'\n",
    "primaryImage = np.load(filePath)\n",
    "\n",
    "filePath = cwd / 'finalSimFile3D512.npy'\n",
    "secondaryImage = np.load(filePath)\n",
    "primaryImage[primaryImage == 255] = 1\n",
    "\n",
    "primaryImage = np.transpose(primaryImage)\n",
    "secondaryImage = np.transpose(secondaryImage)\n",
    "\n",
    "filePath = cwd / 'primarySnowOut.npy'\n",
    "primarySnow = np.load(filePath)\n",
    "filePath = cwd / 'primaryPoreInfo.p'\n",
    "#primaryInfo = np.load(filePath,allow_pickle=True)\n",
    "poreInfoPrimary = pkl.load(open(filePath,'rb'))\n",
    "\n",
    "filePath = cwd / 'secondarySnowOut.npy'\n",
    "secondarySnow = np.load(filePath)\n",
    "filePath = cwd / 'secondaryPoreInfo.p'\n",
    "#secondaryInfo = np.load(filePath,allow_pickle=True)\n",
    "poreInfoSecondary = pkl.load(open(filePath,\"rb\"))\n"
   ],
   "metadata": {
    "collapsed": false,
    "pycharm": {
     "name": "#%%\n"
    }
   }
  },
  {
   "cell_type": "code",
   "execution_count": null,
   "outputs": [],
   "source": [
    "filePath = cwd / 'velocityFiles' / 'velocityNormCodeSecondary_0.00005.mat'\n",
    "velSecondaryMat = sio.loadmat(filePath)\n",
    "velDataNormSecondary = velSecondaryMat['velNorm']\n",
    "\n",
    "filePath = cwd / 'velocityFiles' / 'velocityNormCodePrimary_0.00005.mat'\n",
    "velPrimaryMat = sio.loadmat(filePath)\n",
    "velDataNormPrimary = velPrimaryMat['velNorm']\n"
   ],
   "metadata": {
    "collapsed": false,
    "pycharm": {
     "name": "#%%\n"
    }
   }
  },
  {
   "cell_type": "code",
   "execution_count": null,
   "outputs": [],
   "source": [
    "slice = 35\n",
    "\n",
    "fig, (p1, p2) = plt.subplots(1, 2)\n",
    "\n",
    "fig.suptitle('Secondary pore space and velocity map')\n",
    "p1.imshow(velDataNormSecondary[:,:,slice])\n",
    "p2.imshow(secondaryImage[:,:,slice])\n",
    "\n",
    "fig.savefig('secondaryPoreImage.png', dpi=300, facecolor='w', edgecolor='w')"
   ],
   "metadata": {
    "collapsed": false,
    "pycharm": {
     "name": "#%%\n"
    }
   }
  },
  {
   "cell_type": "code",
   "execution_count": null,
   "outputs": [],
   "source": [
    "plt.imshow(ps.tools.randomize_colors(secondarySnow[:,:,slice]), origin='lower')\n",
    "plt.savefig('secondaryRegions.png', dpi=300, facecolor='w', edgecolor='w')\n"
   ],
   "metadata": {
    "collapsed": false,
    "pycharm": {
     "name": "#%%\n"
    }
   }
  },
  {
   "cell_type": "code",
   "execution_count": null,
   "outputs": [],
   "source": [
    "slice = 35\n",
    "\n",
    "fig, (p1, p2) = plt.subplots(1, 2)\n",
    "\n",
    "fig.suptitle('Primary pore space and velocity map')\n",
    "p1.imshow(velDataNormPrimary[:,:,slice])\n",
    "p2.imshow(primaryImage[:,:,slice])\n",
    "\n",
    "fig.savefig('primaryPoreImage.png', dpi=300, facecolor='w', edgecolor='w')"
   ],
   "metadata": {
    "collapsed": false,
    "pycharm": {
     "name": "#%%\n"
    }
   }
  },
  {
   "cell_type": "markdown",
   "source": [
    "### Load all the data"
   ],
   "metadata": {
    "collapsed": false
   }
  },
  {
   "cell_type": "code",
   "execution_count": null,
   "outputs": [],
   "source": [
    "intraPoreMeanPoreVelocity = np.load('intraPore_meanVel.npy')\n",
    "intraPore_metric_PoreVelocity = np.load('intraPore_metricVel.npy')\n",
    "intraPoreVolumeVector = np.load('intraPoreVolumeVector.npy')\n",
    "intraPoreVelocityDataframe = np.load('intraPoreVelocityDataframe.npy')\n",
    "intraPoreVolumeDataframe = np.load('intraPoreVolumeDataframe.npy')\n",
    "\n",
    "maskedSecondaryMeanPoreVelocity = np.load('maskedPore_meanVel.npy')\n",
    "maskedSecondary_metric_PoreVelocity = np.load('maskedPore_metricVel.npy')\n",
    "maskedSecondaryPoreVolumeVector = np.load('maskedPoreVolumeVector.npy')\n",
    "maskedSecondaryPoreVolumeDataframe = np.load('maskedPoreVolumeDataframe.npy')\n",
    "maskedSecondaryPoreVelocityDataframe = np.load('maskedPoreVelocityDataframe.npy')\n",
    "\n",
    "df_secondaryVelocity = pd.read_pickle('secondaryVelocities.pkl')"
   ],
   "metadata": {
    "collapsed": false,
    "pycharm": {
     "name": "#%%\n"
    }
   }
  },
  {
   "cell_type": "markdown",
   "source": [
    "## Format Dataframe\n"
   ],
   "metadata": {
    "collapsed": false
   }
  },
  {
   "cell_type": "code",
   "execution_count": null,
   "outputs": [],
   "source": [
    "copyInterGrainPoreVol = np.array(df_secondaryVelocity[\"Intergrain Pore Volume\"])\n",
    "filtInterGrainVel = np.zeros(copyInterGrainPoreVol.shape)\n",
    "for a in range(len(copyInterGrainPoreVol)):\n",
    "    if np.isnan(copyInterGrainPoreVol[a]):\n",
    "        filtInterGrainVel[a] = 0\n",
    "    else:\n",
    "        filtInterGrainVel[a] = copyInterGrainPoreVol[a]"
   ],
   "metadata": {
    "collapsed": false,
    "pycharm": {
     "name": "#%%\n"
    }
   }
  },
  {
   "cell_type": "code",
   "execution_count": null,
   "outputs": [],
   "source": [
    "df_secondaryVelocity[\"Intragrain Pore Volume\"] = df_secondaryVelocity[\"Intragrain Pore Volume\"] - filtInterGrainVel"
   ],
   "metadata": {
    "collapsed": false,
    "pycharm": {
     "name": "#%%\n"
    }
   }
  },
  {
   "cell_type": "code",
   "execution_count": null,
   "outputs": [],
   "source": [
    "df_secondaryVelocity"
   ],
   "metadata": {
    "collapsed": false,
    "pycharm": {
     "name": "#%%\n"
    }
   }
  },
  {
   "cell_type": "markdown",
   "source": [
    "## Plot Pore Volume"
   ],
   "metadata": {
    "collapsed": false
   }
  },
  {
   "cell_type": "code",
   "execution_count": null,
   "outputs": [],
   "source": [
    "volumeBins = np.linspace(0, 200000, num=40)\n",
    "\n",
    "fig, ax = plt.subplots()\n",
    "sns.set_style('whitegrid')\n",
    "\n",
    "sns.histplot(data=df_secondaryVelocity[\"Intergrain Pore Volume\"],\n",
    "     bins=volumeBins,color=\"orange\", label=\"Intergranular Porosity\")\n",
    "sns.histplot(data=df_secondaryVelocity[\"Intragrain Pore Volume\"],\n",
    "     bins=volumeBins,color=\"dodgerblue\", label=\"Intragranular Porosity\")\n",
    "\n",
    "\n",
    "#sns.displot(data=[df_secondaryVelocity[\"Intragrain Pore Volume\"], df_secondaryVelocity[\"Intergrain Pore Volume\"]],\n",
    "#            bins=volumeBins)\n",
    "plt.ylim([0,40])\n",
    "plt.legend()\n",
    "plt.ylabel('Pore Volume')\n",
    "\n",
    "plt.plot([poreVolumeCutoff, poreVolumeCutoff],[0,200],'g',lw=1)\n",
    "\n",
    "figStr = 'interAndIntraPoreVolume_pressure_'+str(simPressure)+'.png'\n",
    "\n",
    "plt.savefig(figStr, dpi=300, facecolor='w', edgecolor='w')\n"
   ],
   "metadata": {
    "collapsed": false,
    "pycharm": {
     "name": "#%%\n"
    }
   }
  },
  {
   "cell_type": "markdown",
   "source": [
    "## Plot inter and intragranular porosity\n"
   ],
   "metadata": {
    "collapsed": false
   }
  },
  {
   "cell_type": "code",
   "execution_count": null,
   "outputs": [],
   "source": [
    "bins = np.linspace(0.000002, 0.00005, num=20)\n",
    "#np.append(bins,0.0001)\n",
    "bins = np.append(bins, 1000)\n",
    "bins = np.insert(bins, 0, 0)\n",
    "bins = np.insert(bins, 1, 0.00000001)\n",
    "bins = np.insert(bins, 2, 0.0000001)\n",
    "bins = np.insert(bins, 3, 0.000001)\n",
    "\n",
    "\n",
    "binnedIntraVel = pd.cut(df_secondaryVelocity[\"Intragrain Median Velocity\"], bins=bins, right=False)\n",
    "binnedInterVel = pd.cut(df_secondaryVelocity[\"Intergrain Median Velocity\"], bins=bins, right=False)\n",
    "df_secondaryVelocity[\"binned_intraVelocity\"] = binnedIntraVel\n",
    "df_secondaryVelocity[\"binned_interVelocity\"] = binnedIntraVel\n",
    "\n",
    "yMax = 3000\n",
    "velBins = np.linspace(0, 0.000025, num=40)\n",
    "\n",
    "fig, ax = plt.subplots()\n",
    "#fig.suptitle('Intra and inter pore velocities', fontsize=20)\n",
    "sns.histplot(data=df_secondaryVelocity[\"Intragrain Median Velocity\"],bins=velBins,\n",
    "             ax=ax,color=\"dodgerblue\", label=\"Intraparticle Median Velocity\")\n",
    "sns.histplot(data=df_secondaryVelocity[\"Intergrain Median Velocity\"], bins=velBins,\n",
    "             ax=ax, color=\"orange\", label=\"Intergrain Median Velocity\")\n",
    "plt.legend()\n",
    "ax.set_ylim([0,200])\n",
    "ax.set_ylabel('Median Velocity')\n",
    "\n",
    "lowFlowVelCutoff = 6.5 * 10 ** float(-6) #0.000207 # 5.13 * 10 ** float(-5) # 0.5 * 10 ** float(-5)\n",
    "ax.plot([lowFlowVelCutoff , lowFlowVelCutoff],[0,200],'g',lw=1)\n",
    "\n",
    "figStr = 'interAndIntraPoreVelocity_pressure_'+str(simPressure)+'.png'\n",
    "\n",
    "fig.savefig(figStr, dpi=300, facecolor='w', edgecolor='w')\n",
    "\n"
   ],
   "metadata": {
    "collapsed": false,
    "pycharm": {
     "name": "#%%\n"
    }
   }
  },
  {
   "cell_type": "markdown",
   "source": [
    "## Plot both pore volume and median velocity"
   ],
   "metadata": {
    "collapsed": false
   }
  },
  {
   "cell_type": "code",
   "execution_count": null,
   "outputs": [],
   "source": [
    "########################################\n",
    "\n",
    "yMax = 0.0001\n",
    "xMax = 100000#np.max(df_secondaryVelocity[\"Intergrain Pore Volume\"])\n",
    "\n",
    "fig, axes = plt.subplots(1, 2, figsize=(18, 10))\n",
    "fig.suptitle('Pore volume vs Median pore velocity for Pore Pressure ='+str(simPressure), fontsize=20)\n",
    "sns.scatterplot(data=df_secondaryVelocity,x=\"Intergrain Pore Volume\", y='Intergrain Median Velocity',ax=axes[0])\n",
    "axes[0].set_xlabel('Pore Volume (lattice units)', fontsize=18)\n",
    "axes[0].set_ylabel('Median Pore Velocity', fontsize=18)\n",
    "axes[0].set_title('Intergranular Pores', fontsize=20)\n",
    "axes[0].set_ylim([0,yMax])\n",
    "axes[0].set_xlim([0,xMax])\n",
    "axes[0].plot([poreVolumeCutoff, poreVolumeCutoff],[0,yMax],'r',lw=5)\n",
    "axes[0].plot([0,np.max(secondarySkeletonPoreVolume)],[lowFlowVelCutoff, lowFlowVelCutoff],'g',lw=5)\n",
    "\n",
    "sns.scatterplot(data=df_secondaryVelocity, x=\"Intragrain Pore Volume\", y='Intragrain Median Velocity',ax=axes[1])\n",
    "axes[1].set_xlabel('Pore Volume (lattice units)', fontsize=18)\n",
    "axes[1].set_ylabel('Median Pore Velocity', fontsize=18)\n",
    "axes[1].set_title('Intragranular Pores', fontsize=20)\n",
    "axes[1].set_ylim([0,yMax])\n",
    "axes[1].set_xlim([0,xMax])\n",
    "axes[1].plot([poreVolumeCutoff, poreVolumeCutoff],[0,yMax],'r',lw=5)\n",
    "axes[1].plot([0,np.max(secondarySkeletonPoreVolume)],[lowFlowVelCutoff, lowFlowVelCutoff],'g',lw=5)\n",
    "\n",
    "figStr = 'poreVolumeVsPoreVelocity_zoomIn'+'.png'\n",
    "\n",
    "fig.savefig(figStr, dpi=300, facecolor='w', edgecolor='w')\n"
   ],
   "metadata": {
    "collapsed": false,
    "pycharm": {
     "name": "#%%\n"
    }
   }
  },
  {
   "cell_type": "code",
   "execution_count": null,
   "outputs": [],
   "source": [
    "df_secondaryVelocity.count()"
   ],
   "metadata": {
    "collapsed": false,
    "pycharm": {
     "name": "#%%\n"
    }
   }
  },
  {
   "cell_type": "markdown",
   "source": [
    "# Add diffusion broadening"
   ],
   "metadata": {
    "collapsed": false
   }
  },
  {
   "cell_type": "code",
   "execution_count": null,
   "outputs": [],
   "source": [
    "D_0 = 2.023 * 10 ** float(-9) # for water at twenty degrees Celsius\n",
    "T = 90 * 10 ** float(-6) # 90 ms, same as NMR experiment\n",
    "diffusionLength = np.sqrt(D_0 * T)\n",
    "diffusionVel = diffusionLength/T\n",
    "\n",
    "randList = [-1,1]\n",
    "diffusionSign = np.random.choice(randList,len(df_secondaryVelocity[\"All secondary regions\"]))\n",
    "diffusionDist = np.random.rand(len(df_secondaryVelocity[\"All secondary regions\"]))\n",
    "\n",
    "# FIXME: how is this defined really?\n",
    "# figure out sigma of diffusion distribution\n",
    "diffusionDist = np.random.normal(0,diffusionVel,len(df_secondaryVelocity[\"All secondary regions\"]))\n",
    "#diffusionDistScale = (diffusionDist-np.mean(diffusionDist)) / np.std(diffusionDist)\n",
    "diffusionDistScale = (diffusionDist-np.min(diffusionDist)) / (np.max(diffusionDist)-np.min(diffusionDist))\n",
    "diffusionDistScale = diffusionDistScale - np.mean(diffusionDistScale)\n",
    "#diffusionAdd = diffusionAdd / np.mean(diffusionAdd)"
   ],
   "metadata": {
    "collapsed": false,
    "pycharm": {
     "name": "#%%\n"
    }
   }
  },
  {
   "cell_type": "code",
   "execution_count": null,
   "outputs": [],
   "source": [
    "fig, ax = plt.subplots()\n",
    "\n",
    "sns.histplot(diffusionDistScale,kde=True)\n",
    "\n",
    "figStr = 'diffDist'+'.png'\n",
    "\n",
    "fig.savefig(figStr, dpi=300, facecolor='w', edgecolor='w')"
   ],
   "metadata": {
    "collapsed": false,
    "pycharm": {
     "name": "#%%\n"
    }
   }
  },
  {
   "cell_type": "code",
   "execution_count": null,
   "outputs": [],
   "source": [
    "secondaryMedianVel = df_secondaryVelocity[\"Median secondary pore velocity\"]\n",
    "secondaryMedianVel = np.array(secondaryMedianVel)\n",
    "#secondaryVelScale = (secondaryMedianVel - np.nanmean(secondaryMedianVel)) / np.nanstd(secondaryMedianVel)\n",
    "secondaryVelScale = (secondaryMedianVel - np.nanmin(secondaryMedianVel)) / (np.nanmax(secondaryMedianVel) - np.nanmin(secondaryMedianVel))"
   ],
   "metadata": {
    "collapsed": false,
    "pycharm": {
     "name": "#%%\n"
    }
   }
  },
  {
   "cell_type": "code",
   "execution_count": null,
   "outputs": [],
   "source": [
    "fig, ax = plt.subplots()\n",
    "\n",
    "sns.histplot(secondaryVelScale)\n",
    "\n",
    "figStr = 'simVelDist'+'.png'\n",
    "\n",
    "fig.savefig(figStr, dpi=300, facecolor='w', edgecolor='w')"
   ],
   "metadata": {
    "collapsed": false,
    "pycharm": {
     "name": "#%%\n"
    }
   }
  },
  {
   "cell_type": "markdown",
   "source": [
    "### Plot all pore velocities"
   ],
   "metadata": {
    "collapsed": false
   }
  },
  {
   "cell_type": "code",
   "execution_count": null,
   "outputs": [],
   "source": [
    "# filter by pore space\n",
    "allVelocities = velDataNormSecondary[secondaryImage == True]\n",
    "# smush into one dimension\n",
    "allVelocities = np.squeeze(allVelocities)\n",
    "# normalize by mean velocity\n",
    "allVelocitiesNorm = allVelocities / np.mean(allVelocities)"
   ],
   "metadata": {
    "collapsed": false,
    "pycharm": {
     "name": "#%%\n"
    }
   }
  },
  {
   "cell_type": "code",
   "execution_count": null,
   "outputs": [],
   "source": [
    "allDisplacementNorm = allVelocitiesNorm * resolution * experimentTime # this is now in units of length"
   ],
   "metadata": {
    "collapsed": false,
    "pycharm": {
     "name": "#%%\n"
    }
   }
  },
  {
   "cell_type": "code",
   "execution_count": null,
   "outputs": [],
   "source": [
    "bins = np.linspace(0.000002, 0.00005, num=20)\n",
    "#np.append(bins,0.0001)\n",
    "bins = np.append(bins, 1000)\n",
    "bins = np.insert(bins, 0, 0)\n",
    "bins = np.insert(bins, 1, 0.00000001)\n",
    "bins = np.insert(bins, 2, 0.0000001)\n",
    "bins = np.insert(bins, 3, 0.000001)\n",
    "\n",
    "binnedAllDisplacements = pd.cut(allDisplacementNorm, bins=bins, right=False)\n"
   ],
   "metadata": {
    "collapsed": false,
    "pycharm": {
     "name": "#%%\n"
    }
   }
  },
  {
   "cell_type": "code",
   "execution_count": null,
   "outputs": [],
   "source": [
    "sns.histplot(allVelocitiesNorm)"
   ],
   "metadata": {
    "collapsed": false,
    "pycharm": {
     "name": "#%%\n"
    }
   }
  },
  {
   "cell_type": "code",
   "execution_count": null,
   "outputs": [],
   "source": [
    "fig, ax = plt.subplots()\n",
    "\n",
    "sns.histplot(allDisplacementNorm)\n",
    "\n",
    "figStr = 'simulatedDisplacement'+'.png'\n",
    "\n",
    "fig.savefig(figStr, dpi=300, facecolor='w', edgecolor='w')"
   ],
   "metadata": {
    "collapsed": false,
    "pycharm": {
     "name": "#%%\n"
    }
   }
  },
  {
   "cell_type": "markdown",
   "source": [
    "## Load NMR data"
   ],
   "metadata": {
    "collapsed": false
   }
  },
  {
   "cell_type": "code",
   "execution_count": null,
   "outputs": [],
   "source": [
    "filePath = cwd / 'summedNMRDisp.mat'\n",
    "NMR_dispData = sio.loadmat(filePath)\n",
    "NMRDisp = NMR_dispData['summedDispData']"
   ],
   "metadata": {
    "collapsed": false,
    "pycharm": {
     "name": "#%%\n"
    }
   }
  },
  {
   "cell_type": "code",
   "execution_count": null,
   "outputs": [],
   "source": [
    "NMRDispScale = (NMRDisp - np.nanmean(NMRDisp)) / (np.nanmax(NMRDisp)-np.nanmin(NMRDisp))\n",
    "NMRDispScale = np.transpose(NMRDispScale)\n",
    "NMRDispScale = np.squeeze(NMRDispScale)"
   ],
   "metadata": {
    "collapsed": false,
    "pycharm": {
     "name": "#%%\n"
    }
   }
  },
  {
   "cell_type": "code",
   "execution_count": null,
   "outputs": [],
   "source": [
    "indices = [i for i in range(NMRDispScale.size)]"
   ],
   "metadata": {
    "collapsed": false,
    "pycharm": {
     "name": "#%%\n"
    }
   }
  },
  {
   "cell_type": "code",
   "execution_count": null,
   "outputs": [],
   "source": [
    "fig, ax = plt.subplots()\n",
    "\n",
    "plt.plot(indices,NMRDispScale,axes=ax)\n",
    "\n",
    "figStr = 'NMRDispHist'+'.png'\n",
    "\n",
    "fig.savefig(figStr, dpi=300, facecolor='w', edgecolor='w')\n",
    "\n",
    "\n"
   ],
   "metadata": {
    "collapsed": false,
    "pycharm": {
     "name": "#%%\n"
    }
   }
  },
  {
   "cell_type": "code",
   "execution_count": null,
   "outputs": [],
   "source": [
    " np.where(secondaryVelPlusDiffusion[3] == np.nan)"
   ],
   "metadata": {
    "collapsed": false,
    "pycharm": {
     "name": "#%%\n"
    }
   }
  },
  {
   "cell_type": "code",
   "execution_count": null,
   "outputs": [],
   "source": [
    "indices = [i for i in range(secondaryVelScale.size)]\n",
    "secondaryVelScale = np.sort(secondaryVelScale)\n",
    "secondaryVelScale = np.flip(secondaryVelScale)\n",
    "plt.plot(indices,secondaryVelScale)\n"
   ],
   "metadata": {
    "collapsed": false,
    "pycharm": {
     "name": "#%%\n"
    }
   }
  },
  {
   "cell_type": "code",
   "execution_count": null,
   "outputs": [],
   "source": [
    "secondaryVelPlusDiffusion = secondaryVelScale + diffusionDistScale\n",
    "\n",
    "fig, ax = plt.subplots()\n",
    "\n",
    "sns.histplot(secondaryVelPlusDiffusion,ax=ax,kde=True)\n",
    "\n",
    "figStr = 'simDispHist'+'.png'\n",
    "\n",
    "fig.savefig(figStr, dpi=300, facecolor='w', edgecolor='w')"
   ],
   "metadata": {
    "collapsed": false,
    "pycharm": {
     "name": "#%%\n"
    }
   }
  },
  {
   "cell_type": "code",
   "execution_count": null,
   "outputs": [],
   "source": [
    "indices = np.where(np.isnan(secondaryVelPlusDiffusion), False, True)\n",
    "secondaryVelPlusDiffusion = secondaryVelPlusDiffusion[indices]"
   ],
   "metadata": {
    "collapsed": false,
    "pycharm": {
     "name": "#%%\n"
    }
   }
  },
  {
   "cell_type": "code",
   "execution_count": null,
   "outputs": [],
   "source": [
    "indices = [i for i in range(secondaryVelPlusDiffusion.size)]\n",
    "plt.plot(indices,secondaryVelPlusDiffusion)"
   ],
   "metadata": {
    "collapsed": false,
    "pycharm": {
     "name": "#%%\n"
    }
   }
  },
  {
   "cell_type": "code",
   "execution_count": null,
   "outputs": [],
   "source": [
    "testKDE = gaussian_kde(secondaryVelPlusDiffusion)\n",
    "indices = np.random.rand(len(secondaryVelPlusDiffusion))\n",
    "plotKDE = testKDE.evaluate(indices)"
   ],
   "metadata": {
    "collapsed": false,
    "pycharm": {
     "name": "#%%\n"
    }
   }
  },
  {
   "cell_type": "code",
   "execution_count": null,
   "outputs": [],
   "source": [
    "plt.plot(indices,plotKDE)\n"
   ],
   "metadata": {
    "collapsed": false,
    "pycharm": {
     "name": "#%%\n"
    }
   }
  },
  {
   "cell_type": "code",
   "execution_count": null,
   "outputs": [],
   "source": [
    "np.random.rand(10)"
   ],
   "metadata": {
    "collapsed": false,
    "pycharm": {
     "name": "#%%\n"
    }
   }
  },
  {
   "cell_type": "code",
   "execution_count": null,
   "outputs": [],
   "source": [
    "filePath = cwd / 'summedNMRDisp.mat'\n",
    "NMR_dispData = sio.loadmat(filePath)\n",
    "NMRDisp = NMR_dispData['summedDispData']"
   ],
   "metadata": {
    "collapsed": false,
    "pycharm": {
     "name": "#%%\n"
    }
   }
  },
  {
   "cell_type": "code",
   "execution_count": null,
   "outputs": [],
   "source": [
    "NMRDispScale = (NMRDisp - np.nanmean(NMRDisp)) / (np.nanmax(NMRDisp)-np.nanmin(NMRDisp))\n",
    "NMRDispScale = np.transpose(NMRDispScale)\n",
    "NMRDispScale = np.squeeze(NMRDispScale)"
   ],
   "metadata": {
    "collapsed": false,
    "pycharm": {
     "name": "#%%\n"
    }
   }
  },
  {
   "cell_type": "code",
   "execution_count": null,
   "outputs": [],
   "source": [
    "indices = [i for i in range(NMRDispScale.size)]"
   ],
   "metadata": {
    "collapsed": false,
    "pycharm": {
     "name": "#%%\n"
    }
   }
  },
  {
   "cell_type": "code",
   "execution_count": null,
   "outputs": [],
   "source": [
    "fig, ax = plt.subplots()\n",
    "\n",
    "plt.plot(indices,NMRDispScale,axes=ax)\n",
    "\n",
    "figStr = 'NMRDispHist'+'.png'\n",
    "\n",
    "fig.savefig(figStr, dpi=300, facecolor='w', edgecolor='w')\n",
    "\n"
   ],
   "metadata": {
    "collapsed": false,
    "pycharm": {
     "name": "#%%\n"
    }
   }
  },
  {
   "cell_type": "markdown",
   "source": [
    "# Calculate flowing fraction for this data"
   ],
   "metadata": {
    "collapsed": false
   }
  },
  {
   "cell_type": "code",
   "execution_count": null,
   "outputs": [],
   "source": [
    "intergrainPoreCount = df_secondaryVelocity[\"Intergrain Pore Volume\"].count()\n",
    "print('Number of inter particle pores is',str(intergrainPoreCount))\n",
    "\n",
    "# Final porosity calculation\n",
    "porosityCalc = ps.metrics.porosity(secondaryImage)\n",
    "print('Total porosity:')\n",
    "print(np.round(porosityCalc,2))\n",
    "\n",
    "# Get grains\n",
    "flippedImage = np.copy(secondaryImage)\n",
    "flippedImage[secondaryImage == 1] = 0\n",
    "flippedImage[secondaryImage == 0] = 1"
   ],
   "metadata": {
    "collapsed": false,
    "pycharm": {
     "name": "#%%\n"
    }
   }
  },
  {
   "cell_type": "markdown",
   "source": [
    "### Refer to other code for less/more mobile calculation\n",
    "## lowFlowCompute.py\n"
   ],
   "metadata": {
    "collapsed": false
   }
  }
 ],
 "metadata": {
  "kernelspec": {
   "display_name": "Python 3",
   "language": "python",
   "name": "python3"
  },
  "language_info": {
   "codemirror_mode": {
    "name": "ipython",
    "version": 2
   },
   "file_extension": ".py",
   "mimetype": "text/x-python",
   "name": "python",
   "nbconvert_exporter": "python",
   "pygments_lexer": "ipython2",
   "version": "2.7.6"
  }
 },
 "nbformat": 4,
 "nbformat_minor": 0
}