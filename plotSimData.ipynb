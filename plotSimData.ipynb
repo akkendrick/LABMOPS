{
 "cells": [
  {
   "cell_type": "code",
   "execution_count": null,
   "outputs": [],
   "source": [
    "import numpy as np\n",
    "import porespy as ps\n",
    "import matplotlib.pyplot as plt\n",
    "import scipy.io as sio\n",
    "import skimage as ski\n",
    "import tqdm\n",
    "from scipy.signal import find_peaks, peak_widths\n",
    "import seaborn as sns\n",
    "import pandas as pd\n",
    "from pathlib import Path\n",
    "import pickle as pkl\n",
    "from sklearn.neighbors import KernelDensity\n",
    "from  scipy.stats import gaussian_kde\n",
    "\n",
    "\n",
    "cwd = Path().resolve()"
   ],
   "metadata": {
    "collapsed": false,
    "pycharm": {
     "name": "#%%\n"
    }
   }
  },
  {
   "cell_type": "code",
   "execution_count": null,
   "outputs": [],
   "source": [
    "# Define overall variables used to analyze the data\n",
    "resolution = 16.81E-6 # adding resolution in meters\n",
    "lowFlowVelCutoff = 6.5 * 10 ** float(-6) #0.000207 # 5.13 * 10 ** float(-5) # 0.5 * 10 ** float(-5)\n",
    "poreDiamThresh = 20\n",
    "poreVolumeCutoff = 38000\n",
    "simPressure = 0.00005 # This is currently hardcoded!!\n",
    "imageSize = 512\n",
    "experimentTime = 90 * 10 ** float(-6) # specify NMR time\n",
    "\n",
    "filePath = cwd / 'subBeadPackPy512_justSpheres.npy'\n",
    "primaryImage = np.load(filePath)\n",
    "\n",
    "filePath = cwd / 'finalSimFile3D512.npy'\n",
    "secondaryImage = np.load(filePath)\n",
    "primaryImage[primaryImage == 255] = 1\n",
    "\n",
    "primaryImage = np.transpose(primaryImage)\n",
    "secondaryImage = np.transpose(secondaryImage)\n",
    "\n",
    "filePath = cwd / 'primarySnowOut.npy'\n",
    "primarySnow = np.load(filePath)\n",
    "filePath = cwd / 'primaryPoreInfo.p'\n",
    "#primaryInfo = np.load(filePath,allow_pickle=True)\n",
    "poreInfoPrimary = pkl.load(open(filePath,'rb'))\n",
    "\n",
    "filePath = cwd / 'secondarySnowOut.npy'\n",
    "secondarySnow = np.load(filePath)\n",
    "filePath = cwd / 'secondaryPoreInfo.p'\n",
    "#secondaryInfo = np.load(filePath,allow_pickle=True)\n",
    "poreInfoSecondary = pkl.load(open(filePath,\"rb\"))\n"
   ],
   "metadata": {
    "collapsed": false,
    "pycharm": {
     "name": "#%%\n"
    }
   }
  },
  {
   "cell_type": "code",
   "execution_count": null,
   "outputs": [],
   "source": [
    "filePath = cwd / 'velocityFiles' / 'velocityNormCodeSecondary_0.00005.mat'\n",
    "velSecondaryMat = sio.loadmat(filePath)\n",
    "velDataNormSecondary = velSecondaryMat['velNorm']\n",
    "\n",
    "filePath = cwd / 'velocityFiles' / 'velocityNormCodePrimary_0.00005.mat'\n",
    "velPrimaryMat = sio.loadmat(filePath)\n",
    "velDataNormPrimary = velPrimaryMat['velNorm']\n"
   ],
   "metadata": {
    "collapsed": false,
    "pycharm": {
     "name": "#%%\n"
    }
   }
  },
  {
   "cell_type": "code",
   "execution_count": null,
   "outputs": [],
   "source": [
    "slice = 35\n",
    "\n",
    "fig, (p1, p2) = plt.subplots(1, 2)\n",
    "\n",
    "fig.suptitle('Secondary pore space and velocity map')\n",
    "p1.imshow(velDataNormSecondary[:,:,slice])\n",
    "p2.imshow(secondaryImage[:,:,slice])\n",
    "\n",
    "fig.savefig('secondaryPoreImage.png', dpi=300, facecolor='w', edgecolor='w')"
   ],
   "metadata": {
    "collapsed": false,
    "pycharm": {
     "name": "#%%\n"
    }
   }
  },
  {
   "cell_type": "code",
   "execution_count": null,
   "outputs": [],
   "source": [
    "plt.imshow(ps.tools.randomize_colors(secondarySnow[:,:,slice]), origin='lower')\n",
    "plt.savefig('secondaryRegions.png', dpi=300, facecolor='w', edgecolor='w')\n"
   ],
   "metadata": {
    "collapsed": false,
    "pycharm": {
     "name": "#%%\n"
    }
   }
  },
  {
   "cell_type": "code",
   "execution_count": null,
   "outputs": [],
   "source": [
    "slice = 35\n",
    "\n",
    "fig, (p1, p2) = plt.subplots(1, 2)\n",
    "\n",
    "fig.suptitle('Primary pore space and velocity map')\n",
    "p1.imshow(velDataNormPrimary[:,:,slice])\n",
    "p2.imshow(primaryImage[:,:,slice])\n",
    "\n",
    "fig.savefig('primaryPoreImage.png', dpi=300, facecolor='w', edgecolor='w')"
   ],
   "metadata": {
    "collapsed": false,
    "pycharm": {
     "name": "#%%\n"
    }
   }
  },
  {
   "cell_type": "markdown",
   "source": [
    "### Load all the data"
   ],
   "metadata": {
    "collapsed": false
   }
  },
  {
   "cell_type": "code",
   "execution_count": null,
   "outputs": [],
   "source": [
    "intraPoreMeanPoreVelocity = np.load('intraPore_meanVel.npy')\n",
    "intraPore_metric_PoreVelocity = np.load('intraPore_metricVel.npy')\n",
    "intraPoreVolumeVector = np.load('intraPoreVolumeVector.npy')\n",
    "intraPoreVelocityDataframe = np.load('intraPoreVelocityDataframe.npy')\n",
    "intraPoreVolumeDataframe = np.load('intraPoreVolumeDataframe.npy')\n",
    "\n",
    "maskedSecondaryMeanPoreVelocity = np.load('maskedPore_meanVel.npy')\n",
    "maskedSecondary_metric_PoreVelocity = np.load('maskedPore_metricVel.npy')\n",
    "maskedSecondaryPoreVolumeVector = np.load('maskedPoreVolumeVector.npy')\n",
    "maskedSecondaryPoreVolumeDataframe = np.load('maskedPoreVolumeDataframe.npy')\n",
    "maskedSecondaryPoreVelocityDataframe = np.load('maskedPoreVelocityDataframe.npy')\n",
    "\n",
    "df_secondaryVelocity = pd.read_pickle('secondaryVelocities.pkl')"
   ],
   "metadata": {
    "collapsed": false,
    "pycharm": {
     "name": "#%%\n"
    }
   }
  },
  {
   "cell_type": "markdown",
   "source": [
    "## Format Dataframe\n"
   ],
   "metadata": {
    "collapsed": false
   }
  },
  {
   "cell_type": "code",
   "execution_count": null,
   "outputs": [],
   "source": [
    "copyInterGrainPoreVol = np.array(df_secondaryVelocity[\"Intergrain Pore Volume\"])\n",
    "filtInterGrainVel = np.zeros(copyInterGrainPoreVol.shape)\n",
    "for a in range(len(copyInterGrainPoreVol)):\n",
    "    if np.isnan(copyInterGrainPoreVol[a]):\n",
    "        filtInterGrainVel[a] = 0\n",
    "    else:\n",
    "        filtInterGrainVel[a] = copyInterGrainPoreVol[a]"
   ],
   "metadata": {
    "collapsed": false,
    "pycharm": {
     "name": "#%%\n"
    }
   }
  },
  {
   "cell_type": "code",
   "execution_count": null,
   "outputs": [],
   "source": [
    "df_secondaryVelocity[\"Intragrain Pore Volume\"] = df_secondaryVelocity[\"Intragrain Pore Volume\"] - filtInterGrainVel"
   ],
   "metadata": {
    "collapsed": false,
    "pycharm": {
     "name": "#%%\n"
    }
   }
  },
  {
   "cell_type": "code",
   "execution_count": null,
   "outputs": [],
   "source": [
    "df_secondaryVelocity"
   ],
   "metadata": {
    "collapsed": false,
    "pycharm": {
     "name": "#%%\n"
    }
   }
  },
  {
   "cell_type": "markdown",
   "source": [
    "## Plot Pore Volume"
   ],
   "metadata": {
    "collapsed": false
   }
  },
  {
   "cell_type": "code",
   "execution_count": null,
   "outputs": [],
   "source": [
    "volumeBins = np.linspace(0, 200000, num=40)\n",
    "\n",
    "fig, ax = plt.subplots()\n",
    "sns.set_style('whitegrid')\n",
    "\n",
    "sns.histplot(data=df_secondaryVelocity[\"Intergrain Pore Volume\"],\n",
    "     bins=volumeBins,color=\"orange\", label=\"Intergranular Porosity\")\n",
    "sns.histplot(data=df_secondaryVelocity[\"Intragrain Pore Volume\"],\n",
    "     bins=volumeBins,color=\"dodgerblue\", label=\"Intragranular Porosity\")\n",
    "\n",
    "\n",
    "#sns.displot(data=[df_secondaryVelocity[\"Intragrain Pore Volume\"], df_secondaryVelocity[\"Intergrain Pore Volume\"]],\n",
    "#            bins=volumeBins)\n",
    "plt.ylim([0,40])\n",
    "plt.legend()\n",
    "plt.ylabel('Pore Volume')\n",
    "\n",
    "plt.plot([poreVolumeCutoff, poreVolumeCutoff],[0,200],'g',lw=1)\n",
    "\n",
    "figStr = 'interAndIntraPoreVolume_pressure_'+str(simPressure)+'.png'\n",
    "\n",
    "plt.savefig(figStr, dpi=300, facecolor='w', edgecolor='w')\n"
   ],
   "metadata": {
    "collapsed": false,
    "pycharm": {
     "name": "#%%\n"
    }
   }
  },
  {
   "cell_type": "markdown",
   "source": [
    "## Plot inter and intragranular porosity\n"
   ],
   "metadata": {
    "collapsed": false
   }
  },
  {
   "cell_type": "code",
   "execution_count": null,
   "outputs": [],
   "source": [
    "bins = np.linspace(0.000002, 0.00005, num=20)\n",
    "#np.append(bins,0.0001)\n",
    "bins = np.append(bins, 1000)\n",
    "bins = np.insert(bins, 0, 0)\n",
    "bins = np.insert(bins, 1, 0.00000001)\n",
    "bins = np.insert(bins, 2, 0.0000001)\n",
    "bins = np.insert(bins, 3, 0.000001)\n",
    "\n",
    "\n",
    "binnedIntraVel = pd.cut(df_secondaryVelocity[\"Intragrain Median Velocity\"], bins=bins, right=False)\n",
    "binnedInterVel = pd.cut(df_secondaryVelocity[\"Intergrain Median Velocity\"], bins=bins, right=False)\n",
    "df_secondaryVelocity[\"binned_intraVelocity\"] = binnedIntraVel\n",
    "df_secondaryVelocity[\"binned_interVelocity\"] = binnedIntraVel\n",
    "\n",
    "yMax = 3000\n",
    "velBins = np.linspace(0, 0.000025, num=40)\n",
    "\n",
    "fig, ax = plt.subplots()\n",
    "#fig.suptitle('Intra and inter pore velocities', fontsize=20)\n",
    "sns.histplot(data=df_secondaryVelocity[\"Intragrain Median Velocity\"],bins=velBins,\n",
    "             ax=ax,color=\"dodgerblue\", label=\"Intraparticle Median Velocity\")\n",
    "sns.histplot(data=df_secondaryVelocity[\"Intergrain Median Velocity\"], bins=velBins,\n",
    "             ax=ax, color=\"orange\", label=\"Intergrain Median Velocity\")\n",
    "plt.legend()\n",
    "ax.set_ylim([0,200])\n",
    "ax.set_ylabel('Median Velocity')\n",
    "\n",
    "lowFlowVelCutoff = 6.5 * 10 ** float(-6) #0.000207 # 5.13 * 10 ** float(-5) # 0.5 * 10 ** float(-5)\n",
    "ax.plot([lowFlowVelCutoff , lowFlowVelCutoff],[0,200],'g',lw=1)\n",
    "\n",
    "figStr = 'interAndIntraPoreVelocity_pressure_'+str(simPressure)+'.png'\n",
    "\n",
    "fig.savefig(figStr, dpi=300, facecolor='w', edgecolor='w')\n",
    "\n"
   ],
   "metadata": {
    "collapsed": false,
    "pycharm": {
     "name": "#%%\n"
    }
   }
  },
  {
   "cell_type": "markdown",
   "source": [
    "## Plot both pore volume and median velocity"
   ],
   "metadata": {
    "collapsed": false
   }
  },
  {
   "cell_type": "code",
   "execution_count": null,
   "outputs": [],
   "source": [
    "########################################\n",
    "\n",
    "yMax = 0.0001\n",
    "xMax = 100000#np.max(df_secondaryVelocity[\"Intergrain Pore Volume\"])\n",
    "\n",
    "fig, axes = plt.subplots(1, 2, figsize=(18, 10))\n",
    "fig.suptitle('Pore volume vs Median pore velocity for Pore Pressure ='+str(simPressure), fontsize=20)\n",
    "sns.scatterplot(data=df_secondaryVelocity,x=\"Intergrain Pore Volume\", y='Intergrain Median Velocity',ax=axes[0])\n",
    "axes[0].set_xlabel('Pore Volume (lattice units)', fontsize=18)\n",
    "axes[0].set_ylabel('Median Pore Velocity', fontsize=18)\n",
    "axes[0].set_title('Intergranular Pores', fontsize=20)\n",
    "axes[0].set_ylim([0,yMax])\n",
    "axes[0].set_xlim([0,xMax])\n",
    "axes[0].plot([poreVolumeCutoff, poreVolumeCutoff],[0,yMax],'r',lw=5)\n",
    "axes[0].plot([0,xMax],[lowFlowVelCutoff, lowFlowVelCutoff],'g',lw=5)\n",
    "\n",
    "sns.scatterplot(data=df_secondaryVelocity, x=\"Intragrain Pore Volume\", y='Intragrain Median Velocity',ax=axes[1])\n",
    "axes[1].set_xlabel('Pore Volume (lattice units)', fontsize=18)\n",
    "axes[1].set_ylabel('Median Pore Velocity', fontsize=18)\n",
    "axes[1].set_title('Intragranular Pores', fontsize=20)\n",
    "axes[1].set_ylim([0,yMax])\n",
    "axes[1].set_xlim([0,xMax])\n",
    "axes[1].plot([poreVolumeCutoff, poreVolumeCutoff],[0,yMax],'r',lw=5)\n",
    "axes[1].plot([0,xMax],[lowFlowVelCutoff, lowFlowVelCutoff],'g',lw=5)\n",
    "\n",
    "figStr = 'poreVolumeVsPoreVelocity_zoomIn'+'.png'\n",
    "\n",
    "fig.savefig(figStr, dpi=300, facecolor='w', edgecolor='w')\n"
   ],
   "metadata": {
    "collapsed": false,
    "pycharm": {
     "name": "#%%\n"
    }
   }
  },
  {
   "cell_type": "code",
   "execution_count": null,
   "outputs": [],
   "source": [
    "df_secondaryVelocity.count()"
   ],
   "metadata": {
    "collapsed": false,
    "pycharm": {
     "name": "#%%\n"
    }
   }
  },
  {
   "cell_type": "markdown",
   "source": [
    "# IN PROGRESS RESEARCH BELOW"
   ],
   "metadata": {
    "collapsed": false
   }
  },
  {
   "cell_type": "markdown",
   "source": [
    "### Plot all pore velocities to add diffusion to"
   ],
   "metadata": {
    "collapsed": false
   }
  },
  {
   "cell_type": "code",
   "execution_count": null,
   "outputs": [],
   "source": [
    "# filter by pore space\n",
    "allVelocities = velDataNormSecondary[secondaryImage == True]\n",
    "# smush into one dimension\n",
    "allVelocities = np.squeeze(allVelocities)"
   ],
   "metadata": {
    "collapsed": false,
    "pycharm": {
     "name": "#%%\n"
    }
   }
  },
  {
   "cell_type": "code",
   "execution_count": null,
   "outputs": [],
   "source": [
    "np.max(allVelocities)"
   ],
   "metadata": {
    "collapsed": false,
    "pycharm": {
     "name": "#%%\n"
    }
   }
  },
  {
   "cell_type": "code",
   "execution_count": null,
   "outputs": [],
   "source": [
    "allDisplacements = allVelocities * resolution * experimentTime\n",
    "#allDisplacementNorm = allVelocitiesNorm * resolution * experimentTime # this is now in units of length"
   ],
   "metadata": {
    "collapsed": false,
    "pycharm": {
     "name": "#%%\n"
    }
   }
  },
  {
   "cell_type": "code",
   "execution_count": null,
   "outputs": [],
   "source": [
    "np.max(allDisplacements)"
   ],
   "metadata": {
    "collapsed": false,
    "pycharm": {
     "name": "#%%\n"
    }
   }
  },
  {
   "cell_type": "markdown",
   "source": [
    "## Plot histogram of displacements from velocity simulation"
   ],
   "metadata": {
    "collapsed": false
   }
  },
  {
   "cell_type": "code",
   "execution_count": null,
   "outputs": [],
   "source": [
    "displacementBins = np.linspace(1e-14, 1.5e-13, num=40)\n",
    "#np.append(bins,0.0001)\n",
    "\n",
    "\n",
    "data={'Displacement (m)': allDisplacements}\n",
    "df_displacement = pd.DataFrame(data=data)\n",
    "\n",
    "df_displacement['binned'] = pd.cut(df_displacement['Displacement (m)'], bins=displacementBins, right=False)\n",
    "\n",
    "\n",
    "ax = sns.countplot(data=df_displacement, x='binned')\n",
    "ax.tick_params(axis='x', labelrotation=90)\n"
   ],
   "metadata": {
    "collapsed": false,
    "pycharm": {
     "name": "#%%\n"
    }
   }
  },
  {
   "cell_type": "markdown",
   "source": [
    "## Scale simulated displacements to be close to diffusion"
   ],
   "metadata": {
    "collapsed": false
   }
  },
  {
   "cell_type": "code",
   "execution_count": null,
   "outputs": [],
   "source": [
    "scaleExp = 9\n",
    "allDisplacementsScaled = allDisplacements*(10**scaleExp);"
   ],
   "metadata": {
    "collapsed": false,
    "pycharm": {
     "name": "#%%\n"
    }
   }
  },
  {
   "cell_type": "markdown",
   "source": [
    "## Simulate diffusion"
   ],
   "metadata": {
    "collapsed": false
   }
  },
  {
   "cell_type": "code",
   "execution_count": null,
   "outputs": [],
   "source": [
    "D_0 = 2.023 * 10 ** float(-9) # (m^2/s) for water at twenty degrees Celsius\n",
    "\n",
    "#D_0 = 3.03 * 10 ** float(-9) # (m^2/s) from data?\n",
    "\n",
    "T = 90000 * 10 ** float(-6) # (s) for 90000 us, same as NMR experiment\n",
    "mean1DdiffusionLength = np.sqrt(2*D_0 * T)  # (m) Equation for diffusion in 2D\n",
    "#diffusionVel = diffusionLength/T  # (m/s) Compute how fast diffusion is over T\n",
    "print(\"The mean 1D calculated diffusion length is \", mean1DdiffusionLength, \"m\")\n",
    "\n",
    "#randList = [-1,1]\n",
    "#diffusionSign = np.random.choice(randList,len(df_secondaryVelocity[\"All secondary regions\"]))\n",
    "#diffusionDist = np.random.rand(len(df_secondaryVelocity[\"All secondary regions\"]))\n",
    "\n",
    "# FIXME: how is this defined really?m\n",
    "# figure out sigma of diffusion distribution, currently sigma is set to diffusion length\n",
    "#diffusionDist = np.random.normal(0,mean1DdiffusionLength,len(allVelocities))\n",
    "\n",
    "# For this to work, import NMR data first!\n",
    "diffusionDistVector = np.linspace(np.min(NMRDispScale),np.max(NMRDispScale), 999)\n",
    "diffusionDist = ((4*np.pi*D_0*T)**(-1/2))*np.exp(-(diffusionDistVector)**2/(4*D_0*T))\n",
    "#diffusionDist = np.random.normal(0,diffusionLength,6000)\n",
    "# This distribution is in m"
   ],
   "metadata": {
    "collapsed": false,
    "pycharm": {
     "name": "#%%\n"
    }
   }
  },
  {
   "cell_type": "code",
   "execution_count": null,
   "outputs": [],
   "source": [
    "diffusionDistNorm = diffusionDist / np.max(diffusionDist\n",
    "                                           )\n",
    "peaks, _ = find_peaks(diffusionDistNorm)\n",
    "results_half = peak_widths(diffusionDistNorm, peaks, rel_height=0.5)\n",
    "\n",
    "results_half[0]\n",
    "diffusionDistNorm[int(np.round(results_half[3]))]\n",
    "np.round(results_half[3])"
   ],
   "metadata": {
    "collapsed": false,
    "pycharm": {
     "name": "#%%\n"
    }
   }
  },
  {
   "cell_type": "code",
   "execution_count": null,
   "outputs": [],
   "source": [
    "diffusionWidth = diffusionDistVector[int(np.round(results_half[3]))]-diffusionDistVector[int(np.round(results_half[2]))]\n",
    "print(diffusionWidth)"
   ],
   "metadata": {
    "collapsed": false,
    "pycharm": {
     "name": "#%%\n"
    }
   }
  },
  {
   "cell_type": "code",
   "execution_count": null,
   "outputs": [],
   "source": [
    "plt.plot(diffusionDistNorm)\n",
    "plt.plot(peaks, diffusionDistNorm[peaks], \"x\")\n",
    "plt.hlines(*results_half[1:], color=\"C2\")\n",
    "plt.show()"
   ],
   "metadata": {
    "collapsed": false,
    "pycharm": {
     "name": "#%%\n"
    }
   }
  },
  {
   "cell_type": "code",
   "execution_count": null,
   "outputs": [],
   "source": [
    "np.max(diffusionDist)\n",
    "#np.exp(-(diffusionDistVector)**2/(4*D_0*T))"
   ],
   "metadata": {
    "collapsed": false,
    "pycharm": {
     "name": "#%%\n"
    }
   }
  },
  {
   "cell_type": "code",
   "execution_count": null,
   "outputs": [],
   "source": [
    "np.max(allDisplacementsScaled)"
   ],
   "metadata": {
    "collapsed": false,
    "pycharm": {
     "name": "#%%\n"
    }
   }
  },
  {
   "cell_type": "code",
   "execution_count": null,
   "outputs": [],
   "source": [
    "displacementBinsScaled = np.linspace(np.min(NMRDispScale), np.max(NMRDispScale), num=1000)\n",
    "#np.append(bins,0.0001)\n",
    "#displacementBinsScaled = np.append(displacementBinsScaled, 3e-3)\n",
    "#displacementBinsScaled = np.append(displacementBinsScaled, 5e-3)\n",
    "#displacementBinsScaled = np.append(displacementBinsScaled, 7e-3)\n",
    "#displacementBinsScaled = np.append(displacementBinsScaled, 1e-2)\n",
    "\n",
    "#displacementBinsScaled = np.insert(displacementBinsScaled, 0, -1e-2)\n"
   ],
   "metadata": {
    "collapsed": false,
    "pycharm": {
     "name": "#%%\n"
    }
   }
  },
  {
   "cell_type": "code",
   "execution_count": null,
   "outputs": [],
   "source": [
    "np.max(allDisplacements)"
   ],
   "metadata": {
    "collapsed": false,
    "pycharm": {
     "name": "#%%\n"
    }
   }
  },
  {
   "cell_type": "code",
   "execution_count": null,
   "outputs": [],
   "source": [
    "np.max(allDisplacementsScaled)"
   ],
   "metadata": {
    "collapsed": false,
    "pycharm": {
     "name": "#%%\n"
    }
   }
  },
  {
   "cell_type": "code",
   "execution_count": null,
   "outputs": [],
   "source": [
    "simulatedDisplacementCounts, bins = np.histogram(allDisplacementsScaled, bins=displacementBinsScaled)\n",
    "#simulatedDisplacementCounts = np.array(simulatedDisplacementCounts[0:1])\n",
    "simulatedDisplacementCounts = simulatedDisplacementCounts / np.max(simulatedDisplacementCounts)\n",
    "#simulatedDisplacementCounts = simulatedDisplacementCounts / simulatedDisplacementCounts[25]\n",
    "\n",
    "diffusionCounts, bins = np.histogram(diffusionDist,bins=displacementBinsScaled)\n",
    "#diffusionCounts = np.array(diffusionCounts[0:1])\n",
    "diffusionCounts = diffusionCounts / np.max(diffusionCounts)\n",
    "#diffusionCounts = diffusionCounts / diffusionCounts[25]\n"
   ],
   "metadata": {
    "collapsed": false,
    "pycharm": {
     "name": "#%%\n"
    }
   }
  },
  {
   "cell_type": "code",
   "execution_count": null,
   "outputs": [],
   "source": [
    "fig, ax = plt.subplots()\n",
    "\n",
    "diffusionDistNorm = diffusionDist / np.max(diffusionDist)\n",
    "#plt.bar(bins[:-1],diffusionCounts,width=5e-6)\n",
    "ax.bar(bins[:-1],simulatedDisplacementCounts,width=5e-6)\n",
    "ax.plot(diffusionDistVector,diffusionDistNorm, lw=4,  label='Diffusion')\n",
    "ax.plot([mean1DdiffusionLength,mean1DdiffusionLength],[0,1])\n",
    "\n",
    "ax.set_xlim(-1.5e-4, 1.5e-4)\n",
    "\n",
    "#plt.hist(diffusionDist,bins=displacementBinsScaled)\n",
    "#plt.hist(simulatedDisplacementCounts,bins=displacementBinsScaled)"
   ],
   "metadata": {
    "collapsed": false,
    "pycharm": {
     "name": "#%%\n"
    }
   }
  },
  {
   "cell_type": "markdown",
   "source": [
    "## Load NMR data"
   ],
   "metadata": {
    "collapsed": false
   }
  },
  {
   "cell_type": "code",
   "execution_count": null,
   "outputs": [],
   "source": [
    "filePath = cwd / 'summedNMRDisp.mat'\n",
    "NMR_dispData = sio.loadmat(filePath)\n",
    "NMRDisp = NMR_dispData['summedDispData']\n",
    "\n",
    "filePath = cwd / 'dispVectorOut_inMeters.mat' # load disp vector in meters\n",
    "NMRDispScaleTemp = sio.loadmat(filePath)\n",
    "NMRDispScale = NMRDispScaleTemp['dispVectorOut']\n",
    "\n",
    "NMRDispNorm = NMRDisp / np.max(NMRDisp)\n",
    "NMRDispNorm = np.transpose(NMRDispNorm)\n",
    "NMRDispScale = np.transpose(NMRDispScale)\n"
   ],
   "metadata": {
    "collapsed": false,
    "pycharm": {
     "name": "#%%\n"
    }
   }
  },
  {
   "cell_type": "code",
   "execution_count": null,
   "outputs": [],
   "source": [
    "np.max(NMRDispScale)"
   ],
   "metadata": {
    "collapsed": false,
    "pycharm": {
     "name": "#%%\n"
    }
   }
  },
  {
   "cell_type": "code",
   "execution_count": 171,
   "outputs": [
    {
     "data": {
      "text/plain": "<Figure size 432x288 with 1 Axes>",
      "image/png": "[encoded data removed]"
     },
     "metadata": {},
     "output_type": "display_data"
    }
   ],
   "source": [
    "fig, ax = plt.subplots()\n",
    "\n",
    "nPts = np.shape(NMRDispScale)\n",
    "testScale = NMRDispScale * (1/(2 * np.pi))\n",
    "#testSpace = np.linspace(-0.0001,0.0001,num=nPts[0])\n",
    "ax.plot(testScale,NMRDispNorm, lw=4,  label='NMR Data')\n",
    "#ax.plot(NMRDispScale,NMRDispNorm, lw=4,  label='NMR Data')\n",
    "#ax.hist(diffusionCounts,bins=bins[:-1])\n",
    "\n",
    "# Plot estimated mean flow distance given measured outflow\n",
    "dMeanCalc = 3.271e-5\n",
    "ax.plot([dMeanCalc,dMeanCalc],[0,1],lw=4,color='tab:red',label='Mean expected \\nflow distance')\n",
    "ax.plot(diffusionDistVector,diffusionDistNorm, lw=2,  label='Diffusion')\n",
    "ax.plot(diffusionDistVector,simulatedDisplacementCounts,lw=2,label='Advection')\n",
    "#ax.bar(bins[:-1],diffusionCounts,width=3e-6,alpha=0.5,label='Calculated Diffusion')\n",
    "#bar(bins[:-1],simulatedDisplacementCounts,width=3e-6,alpha=0.5,label=\"Simulated \\nScaled Advection\")\n",
    "\n",
    "ax.set_xlabel(\"Distance (m) \")\n",
    "ax.set_ylabel(\"Normalized amplitude\")\n",
    "ax.legend(loc=2)\n",
    "ax.grid(True)\n",
    "ax.set_xlim(-1.5e-4, 1.5e-4)\n",
    "figStr = 'allSimDisp.png'\n",
    "fig.savefig(figStr, dpi=300, facecolor='w', edgecolor='w')\n"
   ],
   "metadata": {
    "collapsed": false,
    "pycharm": {
     "name": "#%%\n"
    }
   }
  },
  {
   "cell_type": "code",
   "execution_count": 170,
   "outputs": [
    {
     "name": "stdout",
     "output_type": "stream",
     "text": [
      "Mean expected displacement from outflow:3.214e-05\n",
      "NMR measured mean displacement:3.8937898724082944e-05\n",
      "Mean simulated displacement:9.266455364009872e-05\n"
     ]
    }
   ],
   "source": [
    "NMRmeanAmp = np.mean(NMRDispNorm)\n",
    "temp = np.abs(NMRmeanAmp-NMRDispNorm)\n",
    "minInd = np.argmin(temp)\n",
    "NMRmeanDisp = testScale[minInd]\n",
    "\n",
    "meanSimDispAmp = np.mean(simulatedDisplacementCounts)\n",
    "temp = np.abs(meanSimDispAmp-simulatedDisplacementCounts)\n",
    "minInd = np.argmin(temp)\n",
    "meanSimDisp = diffusionDistVector[minInd]\n",
    "\n",
    "print(\"Mean expected displacement from outflow:\" + str(np.mean(dMeanCalc)))\n",
    "print(\"NMR measured mean displacement:\" + str(np.squeeze(NMRmeanDisp)))\n",
    "print(\"Mean simulated displacement:\" + str(meanSimDisp))"
   ],
   "metadata": {
    "collapsed": false,
    "pycharm": {
     "name": "#%%\n"
    }
   }
  },
  {
   "cell_type": "code",
   "execution_count": 151,
   "outputs": [
    {
     "name": "stdout",
     "output_type": "stream",
     "text": [
      "44\n"
     ]
    }
   ],
   "source": [
    "minInd=np.argmin(temp)\n",
    "print(minInd)"
   ],
   "metadata": {
    "collapsed": false,
    "pycharm": {
     "name": "#%%\n"
    }
   }
  },
  {
   "cell_type": "code",
   "execution_count": 141,
   "outputs": [
    {
     "data": {
      "text/plain": "<Figure size 432x288 with 1 Axes>",
      "image/png": "[encoded data removed]"
     },
     "metadata": {},
     "output_type": "display_data"
    }
   ],
   "source": [
    "# Try to convolve diffusion and velocity distributions\n",
    "computedDistance = np.convolve(diffusionDistNorm, simulatedDisplacementCounts,'same')\n",
    "computedDistanceScale = computedDistance / np.max(computedDistance)\n",
    "\n",
    "fig, ax = plt.subplots()\n",
    "\n",
    "nPts = np.shape(NMRDispScale)\n",
    "testScale = NMRDispScale * (1/(2 * np.pi))\n",
    "#testSpace = np.linspace(-0.0001,0.0001,num=nPts[0])\n",
    "ax.plot(testScale,NMRDispNorm, lw=4,  label='NMR Data')\n",
    "\n",
    "ax.plot(diffusionDistVector,computedDistanceScale,lw=2,label='Convolution of Diffusion \\nand Advection')\n",
    "\n",
    "ax.set_xlabel(\"Distance (m) \")\n",
    "ax.set_ylabel(\"Normalized amplitude\")\n",
    "ax.legend(loc=2)\n",
    "ax.grid(True)\n",
    "ax.set_xlim(-1.5e-4, 1.5e-4)\n",
    "\n",
    "figStr = 'allSimDisp_convolve.png'\n",
    "fig.savefig(figStr, dpi=300, facecolor='w', edgecolor='w')\n"
   ],
   "metadata": {
    "collapsed": false,
    "pycharm": {
     "name": "#%%\n"
    }
   }
  },
  {
   "cell_type": "markdown",
   "source": [
    "# Calculate flowing fraction for this data"
   ],
   "metadata": {
    "collapsed": false
   }
  },
  {
   "cell_type": "code",
   "execution_count": null,
   "outputs": [],
   "source": [
    "intergrainPoreCount = df_secondaryVelocity[\"Intergrain Pore Volume\"].count()\n",
    "print('Number of inter particle pores is',str(intergrainPoreCount))\n",
    "\n",
    "# Final porosity calculation\n",
    "porosityCalc = ps.metrics.porosity(secondaryImage)\n",
    "print('Total porosity:')\n",
    "print(np.round(porosityCalc,2))\n",
    "\n",
    "# Get grains\n",
    "flippedImage = np.copy(secondaryImage)\n",
    "flippedImage[secondaryImage == 1] = 0\n",
    "flippedImage[secondaryImage == 0] = 1"
   ],
   "metadata": {
    "collapsed": false,
    "pycharm": {
     "name": "#%%\n"
    }
   }
  },
  {
   "cell_type": "markdown",
   "source": [
    "### Refer to other code for less/more mobile calculation\n",
    "## lowFlowCompute.py\n"
   ],
   "metadata": {
    "collapsed": false
   }
  }
 ],
 "metadata": {
  "kernelspec": {
   "display_name": "Python 3",
   "language": "python",
   "name": "python3"
  },
  "language_info": {
   "codemirror_mode": {
    "name": "ipython",
    "version": 3
   },
   "file_extension": ".py",
   "mimetype": "text/x-python",
   "name": "python",
   "nbconvert_exporter": "python",
   "pygments_lexer": "ipython3",
   "version": "3.8.3"
  }
 },
 "nbformat": 4,
 "nbformat_minor": 4
}