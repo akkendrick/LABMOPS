{
 "cells": [
  {
   "cell_type": "code",
   "execution_count": null,
   "outputs": [],
   "source": [],
   "metadata": {
    "collapsed": false,
    "pycharm": {
     "name": "#%%\n"
    }
   }
  },
  {
   "cell_type": "code",
   "execution_count": null,
   "outputs": [],
   "source": [],
   "metadata": {
    "collapsed": false,
    "pycharm": {
     "name": "#%%\n"
    }
   }
  },
  {
   "cell_type": "code",
   "execution_count": null,
   "outputs": [],
   "source": [
    "import scipy as sp\n",
    "import numpy as np\n",
    "import porespy as ps\n",
    "import matplotlib.pyplot as plt\n",
    "import scipy.io as sio\n",
    "import seaborn as sns\n",
    "import skimage as ski\n",
    "\n",
    "imageSize = 250\n",
    "\n",
    "primaryImage = np.load('subBeadPackPy250_justSpheres.npy')\n",
    "secondaryImage = np.load('finalSimFile3D250.npy')\n",
    "primaryImage[primaryImage == 255] = 1\n",
    "\n",
    "velSecondaryMat = sio.loadmat('velNormSecondary.mat')\n",
    "velDataNormSecondary = velSecondaryMat['velNorm']\n",
    "\n",
    "velPrimaryMat = sio.loadmat('velNormPrimary.mat')\n",
    "velDataNormPrimary = velPrimaryMat['velNorm']\n",
    "\n",
    "resolution = 16.81E-6 # adding resolution in meters"
   ],
   "metadata": {
    "collapsed": false,
    "pycharm": {
     "name": "#%%\n"
    }
   }
  },
  {
   "cell_type": "markdown",
   "source": [
    "# Plot pore space and velocity"
   ],
   "metadata": {
    "collapsed": false
   }
  },
  {
   "cell_type": "markdown",
   "source": [
    "Start with sample with secondary porosity"
   ],
   "metadata": {
    "collapsed": false
   }
  },
  {
   "cell_type": "code",
   "execution_count": null,
   "outputs": [],
   "source": [
    "\n",
    "slice = 49\n",
    "\n",
    "secondaryImage = np.transpose(secondaryImage)\n",
    "primaryImage = np.transpose(primaryImage)\n",
    "\n",
    "fig, (p1, p2) = plt.subplots(1, 2)\n",
    "\n",
    "fig.suptitle('Pore space and velocity map')\n",
    "p1.imshow(velDataNormSecondary[:,:,slice])\n",
    "p2.imshow(secondaryImage[:,:,slice])"
   ],
   "metadata": {
    "collapsed": false,
    "pycharm": {
     "name": "#%%\n"
    }
   }
  },
  {
   "cell_type": "markdown",
   "source": [
    "Now plot the sample with just primary porosity"
   ],
   "metadata": {
    "collapsed": false
   }
  },
  {
   "cell_type": "code",
   "execution_count": null,
   "outputs": [],
   "source": [
    "fig, (p1, p2) = plt.subplots(1, 2)\n",
    "\n",
    "fig.suptitle('Pore space and velocity map')\n",
    "p1.imshow(velDataNormPrimary[:,:,slice])\n",
    "p2.imshow(primaryImage[:,:,slice])\n",
    "\n"
   ],
   "metadata": {
    "collapsed": false,
    "pycharm": {
     "name": "#%%\n"
    }
   }
  },
  {
   "cell_type": "markdown",
   "source": [
    "Now compare the pore space of both samples"
   ],
   "metadata": {
    "collapsed": false
   }
  },
  {
   "cell_type": "code",
   "execution_count": null,
   "outputs": [],
   "source": [
    "slice = 49\n",
    "\n",
    "fig, (p1, p2) = plt.subplots(1, 2)\n",
    "\n",
    "fig.suptitle('Pore space comparision')\n",
    "p1.imshow(primaryImage[:,:,slice])\n",
    "p2.imshow(secondaryImage[:,:,slice])"
   ],
   "metadata": {
    "collapsed": false,
    "pycharm": {
     "name": "#%%\n"
    }
   }
  },
  {
   "cell_type": "code",
   "execution_count": null,
   "outputs": [],
   "source": [
    "# testIM = primaryImage.astype(bool)\n",
    "# testIM = testIM[:,:,slice]\n",
    "# skelIM = ski.morphology.skeletonize(testIM)\n",
    "#\n",
    "# plt.imshow(skelIM)"
   ],
   "metadata": {
    "collapsed": false,
    "pycharm": {
     "name": "#%%\n"
    }
   }
  },
  {
   "cell_type": "markdown",
   "source": [
    "# Extract pore network information"
   ],
   "metadata": {
    "collapsed": false
   }
  },
  {
   "cell_type": "code",
   "execution_count": null,
   "outputs": [],
   "source": [
    "snowFiltSecondary = ps.filters.snow_partitioning(im=secondaryImage,r_max=4,sigma=0.4, return_all=True)\n",
    "poreInfoSecondary = ps.networks.regions_to_network(snowFiltSecondary.regions, dt=snowFiltSecondary.dt)\n"
   ],
   "metadata": {
    "collapsed": false,
    "pycharm": {
     "name": "#%%\n"
    }
   }
  },
  {
   "cell_type": "code",
   "execution_count": null,
   "outputs": [],
   "source": [
    "snowFiltPrimary = ps.filters.snow_partitioning(im=primaryImage,r_max=4,sigma=0.4, return_all=True)\n",
    "poreInfoPrimary = ps.networks.regions_to_network(snowFiltPrimary.regions, dt=snowFiltPrimary.dt)"
   ],
   "metadata": {
    "collapsed": false,
    "pycharm": {
     "name": "#%%\n"
    }
   }
  },
  {
   "cell_type": "code",
   "execution_count": null,
   "outputs": [],
   "source": [
    "slice = 19\n",
    "\n",
    "imSub = primaryImage[:,:,slice]\n",
    "snowFiltSub = ps.filters.snow_partitioning(im=imSub,r_max=5,sigma=0.4, return_all=True)\n",
    "poreInfoSub = ps.networks.regions_to_network(snowFiltSub.regions, dt=snowFiltSub.dt)\n",
    "test = ps.metrics.regionprops_3D(snowFiltSub.regions)\n",
    "regionTest = snowFiltSub.regions\n",
    "subsubTest = regionTest[regionTest == 8]\n",
    "\n",
    "plt.imshow(regionTest)"
   ],
   "metadata": {
    "collapsed": false,
    "pycharm": {
     "name": "#%%\n"
    }
   }
  },
  {
   "cell_type": "markdown",
   "source": [
    "# Plot velocity histogram for simulation"
   ],
   "metadata": {
    "collapsed": false
   }
  },
  {
   "cell_type": "code",
   "execution_count": null,
   "outputs": [],
   "source": [
    "allPrimaryVelocities = np.ndarray.flatten(velDataNormPrimary)\n",
    "\n",
    "filtIndex = allPrimaryVelocities > 0\n",
    "trueZeroIndex = allPrimaryVelocities == 0\n",
    "\n",
    "filtPrimaryVelocities = allPrimaryVelocities[filtIndex]\n",
    "filtZeroPrimaryVelocities = allPrimaryVelocities[trueZeroIndex]\n",
    "\n",
    "fig, axes = plt.subplots(1, 1, figsize=(18, 10))\n",
    "sns.distplot(filtPrimaryVelocities, ax=axes, hist=True, kde=True,\n",
    "             bins=int(80), color = 'darkblue',\n",
    "             hist_kws={'edgecolor':'black'},\n",
    "             kde_kws={'linewidth': 4})\n",
    "axes.set_title('Primary porosity ')\n",
    "axes.set_xlabel('All pore velocities',fontsize='x-large')"
   ],
   "metadata": {
    "collapsed": false,
    "pycharm": {
     "name": "#%%\n"
    }
   }
  },
  {
   "cell_type": "code",
   "execution_count": null,
   "outputs": [],
   "source": [
    "allSecondaryVelocities = np.ndarray.flatten(velDataNormSecondary)\n",
    "\n",
    "filtIndex = allSecondaryVelocities > 0\n",
    "trueZeroIndex = allSecondaryVelocities == 0\n",
    "\n",
    "filtSecondaryVelocities = allSecondaryVelocities[filtIndex]\n",
    "filtZeroSecondaryVelocities = allSecondaryVelocities[trueZeroIndex]\n",
    "\n",
    "fig, axes = plt.subplots(1, 1, figsize=(18, 10))\n",
    "sns.distplot(filtSecondaryVelocities, ax=axes, hist=True, kde=True,\n",
    "             bins=int(80), color = 'darkblue',\n",
    "             hist_kws={'edgecolor':'black'},\n",
    "             kde_kws={'linewidth': 4})\n",
    "axes.set_title('Secondary porosity ')\n",
    "axes.set_xlabel('All pore velocities',fontsize='x-large')\n",
    "\n",
    "\n"
   ],
   "metadata": {
    "collapsed": false,
    "pycharm": {
     "name": "#%%\n"
    }
   }
  },
  {
   "cell_type": "code",
   "execution_count": null,
   "outputs": [],
   "source": [
    "allPrimaryVelocities = np.ndarray.flatten(velDataNormPrimary)\n",
    "allSecondaryVelocities = np.ndarray.flatten(velDataNormPrimary)\n",
    "\n",
    "fig, axes = plt.subplots(1, 2, figsize=(18, 10))\n",
    "sns.distplot(allPrimaryVelocities, ax=axes[0], hist=True, kde=True,\n",
    "             bins=int(80), color = 'darkblue',\n",
    "             hist_kws={'edgecolor':'black'},\n",
    "             kde_kws={'linewidth': 4})\n",
    "axes[0].set_title('Primary porosity ')\n",
    "axes[0].set_xlabel('All pore velocities',fontsize='x-large')\n",
    "\n",
    "sns.distplot(allSecondaryVelocities, ax=axes[1], hist=True, kde=True,\n",
    "             bins=int(80), color = 'darkblue',\n",
    "             hist_kws={'edgecolor':'black'},\n",
    "             kde_kws={'linewidth': 4})\n",
    "axes[1].set_title('Secondary porosity')\n",
    "axes[1].set_xlabel('All pore velocities',fontsize='x-large')"
   ],
   "metadata": {
    "collapsed": false,
    "pycharm": {
     "name": "#%%\n"
    }
   }
  },
  {
   "cell_type": "markdown",
   "source": [
    "# Skeleton implementation\n"
   ],
   "metadata": {
    "collapsed": false
   }
  },
  {
   "cell_type": "code",
   "execution_count": null,
   "outputs": [],
   "source": [
    "primaryRegionData = ps.metrics.regionprops_3D(snowFiltPrimary.regions) #Gives properties for each region\n",
    "primaryRegionData.append([])\n",
    "\n",
    "primaryRegions = snowFiltPrimary.regions"
   ],
   "metadata": {
    "collapsed": false,
    "pycharm": {
     "name": "#%%\n"
    }
   }
  },
  {
   "cell_type": "code",
   "execution_count": null,
   "outputs": [],
   "source": [
    "secondaryRegionData = ps.metrics.regionprops_3D(snowFiltSecondary.regions) #Gives properties for each region\n",
    "secondaryRegionData.append([])\n",
    "\n",
    "secondaryRegions =  snowFiltSecondary.regions"
   ],
   "metadata": {
    "collapsed": false,
    "pycharm": {
     "name": "#%%\n"
    }
   }
  },
  {
   "cell_type": "markdown",
   "source": [
    "On primary image"
   ],
   "metadata": {
    "collapsed": false
   }
  },
  {
   "cell_type": "code",
   "execution_count": null,
   "outputs": [],
   "source": [
    "cubeSize = len(primaryImage)\n",
    "primarySkelImage = np.zeros(primaryImage.shape)\n",
    "edgeImage = np.zeros(primaryImage.shape)\n",
    "visit = np.zeros(len(primaryRegionData))\n",
    "\n",
    "\n",
    "for a in range(0,cubeSize):\n",
    "    for b in range(0,cubeSize):\n",
    "        for c in range(0, cubeSize):\n",
    "            regionLabel = snowFiltPrimary.regions[a,b,c]\n",
    "            if regionLabel != 0: # Don't want grains to be counted\n",
    "                regionLabel = regionLabel -1 # Adjusting index to work with region props command\n",
    "                if visit[regionLabel] == 0:\n",
    "                    visit[regionLabel] = 1\n",
    "                    #index = snowFiltPrimary.regions[a,b,c]\n",
    "                    regionInd = snowFiltPrimary.regions == regionLabel\n",
    "                    regionBorder = primaryRegionData[regionLabel].slice\n",
    "                    primarySkelImage[regionBorder[0],regionBorder[1],regionBorder[2]] = primaryRegionData[regionLabel].skeleton\n",
    "                    #edgeImage[snowFiltPrimary.regions[a,b,c] == regionLabel] = regionData[regionLabel].border"
   ],
   "metadata": {
    "collapsed": false,
    "pycharm": {
     "name": "#%%\n"
    }
   }
  },
  {
   "cell_type": "code",
   "execution_count": null,
   "outputs": [],
   "source": [
    "plt.imshow(primarySkelImage[:,:,40])\n",
    "ps.io.to_vtk(primarySkelImage,'PS_skeleton')\n",
    "\n",
    "#primaryImage[primaryImage == 1] = 255 # Make red/blue distinction\n",
    "#ps.io.to_vtk(primaryImage,'primaryImage')"
   ],
   "metadata": {
    "collapsed": false,
    "pycharm": {
     "name": "#%%\n"
    }
   }
  },
  {
   "cell_type": "markdown",
   "source": [
    "On secondary image"
   ],
   "metadata": {
    "collapsed": false
   }
  },
  {
   "cell_type": "code",
   "execution_count": null,
   "outputs": [],
   "source": [
    "cubeSize = len(secondaryImage)\n",
    "secondarySkelImage = np.zeros(secondaryImage.shape)\n",
    "edgeImage = np.zeros(secondaryImage.shape)\n",
    "visit = np.zeros(len(secondaryRegionData))\n",
    "\n",
    "for a in range(0,cubeSize):\n",
    "    for b in range(0,cubeSize):\n",
    "        for c in range(0, cubeSize):\n",
    "            regionLabel = snowFiltSecondary.regions[a,b,c]\n",
    "            if regionLabel != 0: # Don't want grains to be counted\n",
    "                regionLabel = regionLabel -1 # Adjusting index to work with region props command\n",
    "                if visit[regionLabel] == 0:\n",
    "                    visit[regionLabel] = 1\n",
    "                    #index = snowFiltPrimary.regions[a,b,c]\n",
    "                    regionInd = snowFiltPrimary.regions == regionLabel\n",
    "                    regionBorder = secondaryRegionData[regionLabel].slice\n",
    "                    secondarySkelImage[regionBorder[0],regionBorder[1],regionBorder[2]] = secondaryRegionData[regionLabel].skeleton\n"
   ],
   "metadata": {
    "collapsed": false,
    "pycharm": {
     "name": "#%%\n"
    }
   }
  },
  {
   "cell_type": "markdown",
   "source": [
    "# Now plot velocitites on skeleton"
   ],
   "metadata": {
    "collapsed": false
   }
  },
  {
   "cell_type": "code",
   "execution_count": null,
   "outputs": [],
   "source": [
    "primaryVelocitiesSkeleton = []\n",
    "\n",
    "for a in range(0,cubeSize):\n",
    "    for b in range(0,cubeSize):\n",
    "        for c in range(0, cubeSize):\n",
    "            if primarySkelImage[a,b,c] != 0:\n",
    "                primaryVelocitiesSkeleton = np.append(primaryVelocitiesSkeleton,velDataNormPrimary[a,b,c])"
   ],
   "metadata": {
    "collapsed": false,
    "pycharm": {
     "name": "#%%\n"
    }
   }
  },
  {
   "cell_type": "code",
   "execution_count": null,
   "outputs": [],
   "source": [
    "fig, axes = plt.subplots(1, 2, figsize=(18, 10))\n",
    "sns.distplot(primaryVelocitiesSkeleton, ax=axes[0], hist=True, kde=True,\n",
    "             bins=int(80), color = 'darkblue',\n",
    "             hist_kws={'edgecolor':'black'},\n",
    "             kde_kws={'linewidth': 4})\n",
    "\n",
    "sns.distplot(primaryVelocitiesSkeleton[primaryVelocitiesSkeleton != 0], ax=axes[1], hist=True, kde=True,\n",
    "             bins=int(80), color = 'darkblue',\n",
    "             hist_kws={'edgecolor':'black'},\n",
    "             kde_kws={'linewidth': 4})\n"
   ],
   "metadata": {
    "collapsed": false,
    "pycharm": {
     "name": "#%%\n"
    }
   }
  },
  {
   "cell_type": "code",
   "execution_count": null,
   "outputs": [],
   "source": [
    "secondaryVelocitiesSkeleton = []\n",
    "\n",
    "for a in range(0,cubeSize):\n",
    "    for b in range(0,cubeSize):\n",
    "        for c in range(0, cubeSize):\n",
    "            if secondarySkelImage[a,b,c] != 0:\n",
    "                secondaryVelocitiesSkeleton = np.append(secondaryVelocitiesSkeleton,velDataNormSecondary[a,b,c])"
   ],
   "metadata": {
    "collapsed": false,
    "pycharm": {
     "name": "#%%\n"
    }
   }
  },
  {
   "cell_type": "code",
   "execution_count": null,
   "outputs": [],
   "source": [
    "fig, axes = plt.subplots(1, 2, figsize=(18, 10))\n",
    "sns.distplot(secondaryVelocitiesSkeleton, ax=axes[0], hist=True, kde=True,\n",
    "             bins=int(80), color = 'darkblue',\n",
    "             hist_kws={'edgecolor':'black'},\n",
    "             kde_kws={'linewidth': 4})\n",
    "\n",
    "sns.distplot(secondaryVelocitiesSkeleton[secondaryVelocitiesSkeleton != 0], ax=axes[1], hist=True, kde=True,\n",
    "             bins=int(80), color = 'darkblue',\n",
    "             hist_kws={'edgecolor':'black'},\n",
    "             kde_kws={'linewidth': 4})\n",
    "\n",
    "\n"
   ],
   "metadata": {
    "collapsed": false,
    "pycharm": {
     "name": "#%%\n"
    }
   }
  },
  {
   "cell_type": "markdown",
   "source": [
    "Look at number of zeros in each image"
   ],
   "metadata": {
    "collapsed": false
   }
  },
  {
   "cell_type": "code",
   "execution_count": null,
   "outputs": [],
   "source": [
    "primaryVelZeros = primaryVelocitiesSkeleton[primaryVelocitiesSkeleton == 0]\n",
    "secondaryVelZeros = secondaryVelocitiesSkeleton[secondaryVelocitiesSkeleton == 0]\n",
    "\n",
    "primaryVelFilt = primaryVelocitiesSkeleton[primaryVelocitiesSkeleton != 0]\n",
    "secondaryVelFilt = secondaryVelocitiesSkeleton[secondaryVelocitiesSkeleton != 0]"
   ],
   "metadata": {
    "collapsed": false,
    "pycharm": {
     "name": "#%%\n"
    }
   }
  },
  {
   "cell_type": "code",
   "execution_count": null,
   "outputs": [],
   "source": [
    "# Try science python approach\n",
    "# Do skeleton for 3D image\n",
    "# cubeSize = len(primaryImage)\n",
    "#\n",
    "skelPoreImage = np.copy(primaryImage)\n",
    "skelPoreImage[skelPoreImage == 255 ] = 1\n",
    "emptyImage = np.zeros(primaryImage.shape)\n",
    "velocitiesSkeleton = []\n",
    "\n",
    "skelImage = ski.morphology.skeletonize(skelPoreImage)\n",
    "for a in range(0,cubeSize):\n",
    "    for b in range(0,cubeSize):\n",
    "        for c in range(0, cubeSize):\n",
    "            if skelImage[a,b,c] == True:\n",
    "                skelPoreImage[a,b,c] = 0\n",
    "                emptyImage[a,b,c] = 1\n",
    "                velocitiesSkeleton = np.append(velocitiesSkeleton, velDataNormPrimary[a,b,c])\n",
    "            else:\n",
    "                skelPoreImage[a,b,c] = primaryImage[a,b,c]\n"
   ],
   "metadata": {
    "collapsed": false,
    "pycharm": {
     "name": "#%%\n"
    }
   }
  },
  {
   "cell_type": "code",
   "execution_count": null,
   "outputs": [],
   "source": [
    "plt.imshow(emptyImage[:,:,40])\n",
    "\n",
    "emptyImage[emptyImage == 1] = 255\n",
    "ps.io.to_vtk(emptyImage,'skeleton2')\n",
    "\n",
    "#test = ps.visualization.show_3D(emptyImage)\n",
    "#plt.imshow(test)\n",
    "\n"
   ],
   "metadata": {
    "collapsed": false,
    "pycharm": {
     "name": "#%%\n"
    }
   }
  }
 ],
 "metadata": {
  "kernelspec": {
   "display_name": "Python 3",
   "language": "python",
   "name": "python3"
  },
  "language_info": {
   "codemirror_mode": {
    "name": "ipython",
    "version": 2
   },
   "file_extension": ".py",
   "mimetype": "text/x-python",
   "name": "python",
   "nbconvert_exporter": "python",
   "pygments_lexer": "ipython2",
   "version": "2.7.6"
  }
 },
 "nbformat": 4,
 "nbformat_minor": 0
}